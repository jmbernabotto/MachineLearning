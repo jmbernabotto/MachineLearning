{
 "cells": [
  {
   "cell_type": "code",
   "execution_count": 1,
   "metadata": {
    "ExecuteTime": {
     "end_time": "2020-05-28T10:23:30.332749Z",
     "start_time": "2020-05-28T10:23:30.307868Z"
    },
    "colab": {
     "base_uri": "https://localhost:8080/",
     "height": 17
    },
    "colab_type": "code",
    "id": "rniiIDzyIbCb",
    "outputId": "8c76caa7-2da3-47f8-ac2c-ea7d7ba8f59c"
   },
   "outputs": [
    {
     "data": {
      "application/javascript": [
       "IPython.OutputArea.auto_scroll_threshold = 9999\n"
      ],
      "text/plain": [
       "<IPython.core.display.Javascript object>"
      ]
     },
     "metadata": {},
     "output_type": "display_data"
    }
   ],
   "source": [
    "%%javascript\n",
    "IPython.OutputArea.auto_scroll_threshold = 9999"
   ]
  },
  {
   "cell_type": "code",
   "execution_count": 2,
   "metadata": {
    "ExecuteTime": {
     "end_time": "2020-05-28T10:23:36.126380Z",
     "start_time": "2020-05-28T10:23:33.205230Z"
    },
    "colab": {
     "base_uri": "https://localhost:8080/",
     "height": 51
    },
    "colab_type": "code",
    "id": "iU84VfCvIbCf",
    "outputId": "079ff2bf-6d3f-42b3-e3b6-284999f73af7"
   },
   "outputs": [],
   "source": [
    "import numpy as np\n",
    "import pandas as pd\n",
    "import matplotlib.pyplot as plt\n",
    "import seaborn as sns"
   ]
  },
  {
   "cell_type": "code",
   "execution_count": 3,
   "metadata": {
    "ExecuteTime": {
     "end_time": "2020-05-28T10:23:38.350186Z",
     "start_time": "2020-05-28T10:23:37.024940Z"
    },
    "colab": {
     "base_uri": "https://localhost:8080/",
     "height": 386
    },
    "colab_type": "code",
    "id": "idA3EmESIbCh",
    "outputId": "d91e7f6d-9071-457b-a733-ae4be539d524"
   },
   "outputs": [
    {
     "data": {
      "text/html": [
       "<div>\n",
       "<style scoped>\n",
       "    .dataframe tbody tr th:only-of-type {\n",
       "        vertical-align: middle;\n",
       "    }\n",
       "\n",
       "    .dataframe tbody tr th {\n",
       "        vertical-align: top;\n",
       "    }\n",
       "\n",
       "    .dataframe thead th {\n",
       "        text-align: right;\n",
       "    }\n",
       "</style>\n",
       "<table border=\"1\" class=\"dataframe\">\n",
       "  <thead>\n",
       "    <tr style=\"text-align: right;\">\n",
       "      <th></th>\n",
       "      <th>Patient age quantile</th>\n",
       "      <th>SARS-Cov-2 exam result</th>\n",
       "      <th>Patient addmited to regular ward (1=yes, 0=no)</th>\n",
       "      <th>Patient addmited to semi-intensive unit (1=yes, 0=no)</th>\n",
       "      <th>Patient addmited to intensive care unit (1=yes, 0=no)</th>\n",
       "      <th>Hematocrit</th>\n",
       "      <th>Hemoglobin</th>\n",
       "      <th>Platelets</th>\n",
       "      <th>Mean platelet volume</th>\n",
       "      <th>Red blood Cells</th>\n",
       "      <th>...</th>\n",
       "      <th>Hb saturation (arterial blood gases)</th>\n",
       "      <th>pCO2 (arterial blood gas analysis)</th>\n",
       "      <th>Base excess (arterial blood gas analysis)</th>\n",
       "      <th>pH (arterial blood gas analysis)</th>\n",
       "      <th>Total CO2 (arterial blood gas analysis)</th>\n",
       "      <th>HCO3 (arterial blood gas analysis)</th>\n",
       "      <th>pO2 (arterial blood gas analysis)</th>\n",
       "      <th>Arteiral Fio2</th>\n",
       "      <th>Phosphor</th>\n",
       "      <th>ctO2 (arterial blood gas analysis)</th>\n",
       "    </tr>\n",
       "    <tr>\n",
       "      <th>Patient ID</th>\n",
       "      <th></th>\n",
       "      <th></th>\n",
       "      <th></th>\n",
       "      <th></th>\n",
       "      <th></th>\n",
       "      <th></th>\n",
       "      <th></th>\n",
       "      <th></th>\n",
       "      <th></th>\n",
       "      <th></th>\n",
       "      <th></th>\n",
       "      <th></th>\n",
       "      <th></th>\n",
       "      <th></th>\n",
       "      <th></th>\n",
       "      <th></th>\n",
       "      <th></th>\n",
       "      <th></th>\n",
       "      <th></th>\n",
       "      <th></th>\n",
       "      <th></th>\n",
       "    </tr>\n",
       "  </thead>\n",
       "  <tbody>\n",
       "    <tr>\n",
       "      <th>44477f75e8169d2</th>\n",
       "      <td>13</td>\n",
       "      <td>negative</td>\n",
       "      <td>0</td>\n",
       "      <td>0</td>\n",
       "      <td>0</td>\n",
       "      <td>NaN</td>\n",
       "      <td>NaN</td>\n",
       "      <td>NaN</td>\n",
       "      <td>NaN</td>\n",
       "      <td>NaN</td>\n",
       "      <td>...</td>\n",
       "      <td>NaN</td>\n",
       "      <td>NaN</td>\n",
       "      <td>NaN</td>\n",
       "      <td>NaN</td>\n",
       "      <td>NaN</td>\n",
       "      <td>NaN</td>\n",
       "      <td>NaN</td>\n",
       "      <td>NaN</td>\n",
       "      <td>NaN</td>\n",
       "      <td>NaN</td>\n",
       "    </tr>\n",
       "    <tr>\n",
       "      <th>126e9dd13932f68</th>\n",
       "      <td>17</td>\n",
       "      <td>negative</td>\n",
       "      <td>0</td>\n",
       "      <td>0</td>\n",
       "      <td>0</td>\n",
       "      <td>0.236515</td>\n",
       "      <td>-0.02234</td>\n",
       "      <td>-0.517413</td>\n",
       "      <td>0.010677</td>\n",
       "      <td>0.102004</td>\n",
       "      <td>...</td>\n",
       "      <td>NaN</td>\n",
       "      <td>NaN</td>\n",
       "      <td>NaN</td>\n",
       "      <td>NaN</td>\n",
       "      <td>NaN</td>\n",
       "      <td>NaN</td>\n",
       "      <td>NaN</td>\n",
       "      <td>NaN</td>\n",
       "      <td>NaN</td>\n",
       "      <td>NaN</td>\n",
       "    </tr>\n",
       "    <tr>\n",
       "      <th>a46b4402a0e5696</th>\n",
       "      <td>8</td>\n",
       "      <td>negative</td>\n",
       "      <td>0</td>\n",
       "      <td>0</td>\n",
       "      <td>0</td>\n",
       "      <td>NaN</td>\n",
       "      <td>NaN</td>\n",
       "      <td>NaN</td>\n",
       "      <td>NaN</td>\n",
       "      <td>NaN</td>\n",
       "      <td>...</td>\n",
       "      <td>NaN</td>\n",
       "      <td>NaN</td>\n",
       "      <td>NaN</td>\n",
       "      <td>NaN</td>\n",
       "      <td>NaN</td>\n",
       "      <td>NaN</td>\n",
       "      <td>NaN</td>\n",
       "      <td>NaN</td>\n",
       "      <td>NaN</td>\n",
       "      <td>NaN</td>\n",
       "    </tr>\n",
       "    <tr>\n",
       "      <th>f7d619a94f97c45</th>\n",
       "      <td>5</td>\n",
       "      <td>negative</td>\n",
       "      <td>0</td>\n",
       "      <td>0</td>\n",
       "      <td>0</td>\n",
       "      <td>NaN</td>\n",
       "      <td>NaN</td>\n",
       "      <td>NaN</td>\n",
       "      <td>NaN</td>\n",
       "      <td>NaN</td>\n",
       "      <td>...</td>\n",
       "      <td>NaN</td>\n",
       "      <td>NaN</td>\n",
       "      <td>NaN</td>\n",
       "      <td>NaN</td>\n",
       "      <td>NaN</td>\n",
       "      <td>NaN</td>\n",
       "      <td>NaN</td>\n",
       "      <td>NaN</td>\n",
       "      <td>NaN</td>\n",
       "      <td>NaN</td>\n",
       "    </tr>\n",
       "    <tr>\n",
       "      <th>d9e41465789c2b5</th>\n",
       "      <td>15</td>\n",
       "      <td>negative</td>\n",
       "      <td>0</td>\n",
       "      <td>0</td>\n",
       "      <td>0</td>\n",
       "      <td>NaN</td>\n",
       "      <td>NaN</td>\n",
       "      <td>NaN</td>\n",
       "      <td>NaN</td>\n",
       "      <td>NaN</td>\n",
       "      <td>...</td>\n",
       "      <td>NaN</td>\n",
       "      <td>NaN</td>\n",
       "      <td>NaN</td>\n",
       "      <td>NaN</td>\n",
       "      <td>NaN</td>\n",
       "      <td>NaN</td>\n",
       "      <td>NaN</td>\n",
       "      <td>NaN</td>\n",
       "      <td>NaN</td>\n",
       "      <td>NaN</td>\n",
       "    </tr>\n",
       "  </tbody>\n",
       "</table>\n",
       "<p>5 rows × 110 columns</p>\n",
       "</div>"
      ],
      "text/plain": [
       "                 Patient age quantile SARS-Cov-2 exam result  \\\n",
       "Patient ID                                                     \n",
       "44477f75e8169d2                    13               negative   \n",
       "126e9dd13932f68                    17               negative   \n",
       "a46b4402a0e5696                     8               negative   \n",
       "f7d619a94f97c45                     5               negative   \n",
       "d9e41465789c2b5                    15               negative   \n",
       "\n",
       "                 Patient addmited to regular ward (1=yes, 0=no)  \\\n",
       "Patient ID                                                        \n",
       "44477f75e8169d2                                               0   \n",
       "126e9dd13932f68                                               0   \n",
       "a46b4402a0e5696                                               0   \n",
       "f7d619a94f97c45                                               0   \n",
       "d9e41465789c2b5                                               0   \n",
       "\n",
       "                 Patient addmited to semi-intensive unit (1=yes, 0=no)  \\\n",
       "Patient ID                                                               \n",
       "44477f75e8169d2                                                  0       \n",
       "126e9dd13932f68                                                  0       \n",
       "a46b4402a0e5696                                                  0       \n",
       "f7d619a94f97c45                                                  0       \n",
       "d9e41465789c2b5                                                  0       \n",
       "\n",
       "                 Patient addmited to intensive care unit (1=yes, 0=no)  \\\n",
       "Patient ID                                                               \n",
       "44477f75e8169d2                                                  0       \n",
       "126e9dd13932f68                                                  0       \n",
       "a46b4402a0e5696                                                  0       \n",
       "f7d619a94f97c45                                                  0       \n",
       "d9e41465789c2b5                                                  0       \n",
       "\n",
       "                 Hematocrit  Hemoglobin  Platelets  Mean platelet volume   \\\n",
       "Patient ID                                                                  \n",
       "44477f75e8169d2         NaN         NaN        NaN                    NaN   \n",
       "126e9dd13932f68    0.236515    -0.02234  -0.517413               0.010677   \n",
       "a46b4402a0e5696         NaN         NaN        NaN                    NaN   \n",
       "f7d619a94f97c45         NaN         NaN        NaN                    NaN   \n",
       "d9e41465789c2b5         NaN         NaN        NaN                    NaN   \n",
       "\n",
       "                 Red blood Cells  ...  Hb saturation (arterial blood gases)  \\\n",
       "Patient ID                        ...                                         \n",
       "44477f75e8169d2              NaN  ...                                   NaN   \n",
       "126e9dd13932f68         0.102004  ...                                   NaN   \n",
       "a46b4402a0e5696              NaN  ...                                   NaN   \n",
       "f7d619a94f97c45              NaN  ...                                   NaN   \n",
       "d9e41465789c2b5              NaN  ...                                   NaN   \n",
       "\n",
       "                 pCO2 (arterial blood gas analysis)  \\\n",
       "Patient ID                                            \n",
       "44477f75e8169d2                                 NaN   \n",
       "126e9dd13932f68                                 NaN   \n",
       "a46b4402a0e5696                                 NaN   \n",
       "f7d619a94f97c45                                 NaN   \n",
       "d9e41465789c2b5                                 NaN   \n",
       "\n",
       "                 Base excess (arterial blood gas analysis)  \\\n",
       "Patient ID                                                   \n",
       "44477f75e8169d2                                        NaN   \n",
       "126e9dd13932f68                                        NaN   \n",
       "a46b4402a0e5696                                        NaN   \n",
       "f7d619a94f97c45                                        NaN   \n",
       "d9e41465789c2b5                                        NaN   \n",
       "\n",
       "                 pH (arterial blood gas analysis)  \\\n",
       "Patient ID                                          \n",
       "44477f75e8169d2                               NaN   \n",
       "126e9dd13932f68                               NaN   \n",
       "a46b4402a0e5696                               NaN   \n",
       "f7d619a94f97c45                               NaN   \n",
       "d9e41465789c2b5                               NaN   \n",
       "\n",
       "                 Total CO2 (arterial blood gas analysis)  \\\n",
       "Patient ID                                                 \n",
       "44477f75e8169d2                                      NaN   \n",
       "126e9dd13932f68                                      NaN   \n",
       "a46b4402a0e5696                                      NaN   \n",
       "f7d619a94f97c45                                      NaN   \n",
       "d9e41465789c2b5                                      NaN   \n",
       "\n",
       "                 HCO3 (arterial blood gas analysis)  \\\n",
       "Patient ID                                            \n",
       "44477f75e8169d2                                 NaN   \n",
       "126e9dd13932f68                                 NaN   \n",
       "a46b4402a0e5696                                 NaN   \n",
       "f7d619a94f97c45                                 NaN   \n",
       "d9e41465789c2b5                                 NaN   \n",
       "\n",
       "                 pO2 (arterial blood gas analysis)  Arteiral Fio2  Phosphor  \\\n",
       "Patient ID                                                                    \n",
       "44477f75e8169d2                                NaN            NaN       NaN   \n",
       "126e9dd13932f68                                NaN            NaN       NaN   \n",
       "a46b4402a0e5696                                NaN            NaN       NaN   \n",
       "f7d619a94f97c45                                NaN            NaN       NaN   \n",
       "d9e41465789c2b5                                NaN            NaN       NaN   \n",
       "\n",
       "                 ctO2 (arterial blood gas analysis)  \n",
       "Patient ID                                           \n",
       "44477f75e8169d2                                 NaN  \n",
       "126e9dd13932f68                                 NaN  \n",
       "a46b4402a0e5696                                 NaN  \n",
       "f7d619a94f97c45                                 NaN  \n",
       "d9e41465789c2b5                                 NaN  \n",
       "\n",
       "[5 rows x 110 columns]"
      ]
     },
     "execution_count": 3,
     "metadata": {},
     "output_type": "execute_result"
    }
   ],
   "source": [
    "\n",
    "url = 'https://raw.githubusercontent.com/MachineLearnia/Python-Machine-Learning/master/Dataset/dataset.csv'\n",
    "data = pd.read_csv(url, index_col=0, encoding = \"ISO-8859-1\")\n",
    "data.head()"
   ]
  },
  {
   "cell_type": "markdown",
   "metadata": {
    "colab_type": "text",
    "id": "NsKuZMIRIbCi"
   },
   "source": [
    "# PRE-PROCESSING"
   ]
  },
  {
   "cell_type": "code",
   "execution_count": 4,
   "metadata": {
    "ExecuteTime": {
     "end_time": "2020-05-28T10:23:42.422483Z",
     "start_time": "2020-05-28T10:23:42.394755Z"
    },
    "colab": {
     "base_uri": "https://localhost:8080/",
     "height": 386
    },
    "colab_type": "code",
    "id": "s0yPFtaNIbCj",
    "outputId": "a5d2e032-4ba8-4b4f-8e74-e3e7055d024a"
   },
   "outputs": [
    {
     "data": {
      "text/html": [
       "<div>\n",
       "<style scoped>\n",
       "    .dataframe tbody tr th:only-of-type {\n",
       "        vertical-align: middle;\n",
       "    }\n",
       "\n",
       "    .dataframe tbody tr th {\n",
       "        vertical-align: top;\n",
       "    }\n",
       "\n",
       "    .dataframe thead th {\n",
       "        text-align: right;\n",
       "    }\n",
       "</style>\n",
       "<table border=\"1\" class=\"dataframe\">\n",
       "  <thead>\n",
       "    <tr style=\"text-align: right;\">\n",
       "      <th></th>\n",
       "      <th>Patient age quantile</th>\n",
       "      <th>SARS-Cov-2 exam result</th>\n",
       "      <th>Patient addmited to regular ward (1=yes, 0=no)</th>\n",
       "      <th>Patient addmited to semi-intensive unit (1=yes, 0=no)</th>\n",
       "      <th>Patient addmited to intensive care unit (1=yes, 0=no)</th>\n",
       "      <th>Hematocrit</th>\n",
       "      <th>Hemoglobin</th>\n",
       "      <th>Platelets</th>\n",
       "      <th>Mean platelet volume</th>\n",
       "      <th>Red blood Cells</th>\n",
       "      <th>...</th>\n",
       "      <th>Hb saturation (arterial blood gases)</th>\n",
       "      <th>pCO2 (arterial blood gas analysis)</th>\n",
       "      <th>Base excess (arterial blood gas analysis)</th>\n",
       "      <th>pH (arterial blood gas analysis)</th>\n",
       "      <th>Total CO2 (arterial blood gas analysis)</th>\n",
       "      <th>HCO3 (arterial blood gas analysis)</th>\n",
       "      <th>pO2 (arterial blood gas analysis)</th>\n",
       "      <th>Arteiral Fio2</th>\n",
       "      <th>Phosphor</th>\n",
       "      <th>ctO2 (arterial blood gas analysis)</th>\n",
       "    </tr>\n",
       "    <tr>\n",
       "      <th>Patient ID</th>\n",
       "      <th></th>\n",
       "      <th></th>\n",
       "      <th></th>\n",
       "      <th></th>\n",
       "      <th></th>\n",
       "      <th></th>\n",
       "      <th></th>\n",
       "      <th></th>\n",
       "      <th></th>\n",
       "      <th></th>\n",
       "      <th></th>\n",
       "      <th></th>\n",
       "      <th></th>\n",
       "      <th></th>\n",
       "      <th></th>\n",
       "      <th></th>\n",
       "      <th></th>\n",
       "      <th></th>\n",
       "      <th></th>\n",
       "      <th></th>\n",
       "      <th></th>\n",
       "    </tr>\n",
       "  </thead>\n",
       "  <tbody>\n",
       "    <tr>\n",
       "      <th>44477f75e8169d2</th>\n",
       "      <td>13</td>\n",
       "      <td>negative</td>\n",
       "      <td>0</td>\n",
       "      <td>0</td>\n",
       "      <td>0</td>\n",
       "      <td>NaN</td>\n",
       "      <td>NaN</td>\n",
       "      <td>NaN</td>\n",
       "      <td>NaN</td>\n",
       "      <td>NaN</td>\n",
       "      <td>...</td>\n",
       "      <td>NaN</td>\n",
       "      <td>NaN</td>\n",
       "      <td>NaN</td>\n",
       "      <td>NaN</td>\n",
       "      <td>NaN</td>\n",
       "      <td>NaN</td>\n",
       "      <td>NaN</td>\n",
       "      <td>NaN</td>\n",
       "      <td>NaN</td>\n",
       "      <td>NaN</td>\n",
       "    </tr>\n",
       "    <tr>\n",
       "      <th>126e9dd13932f68</th>\n",
       "      <td>17</td>\n",
       "      <td>negative</td>\n",
       "      <td>0</td>\n",
       "      <td>0</td>\n",
       "      <td>0</td>\n",
       "      <td>0.236515</td>\n",
       "      <td>-0.02234</td>\n",
       "      <td>-0.517413</td>\n",
       "      <td>0.010677</td>\n",
       "      <td>0.102004</td>\n",
       "      <td>...</td>\n",
       "      <td>NaN</td>\n",
       "      <td>NaN</td>\n",
       "      <td>NaN</td>\n",
       "      <td>NaN</td>\n",
       "      <td>NaN</td>\n",
       "      <td>NaN</td>\n",
       "      <td>NaN</td>\n",
       "      <td>NaN</td>\n",
       "      <td>NaN</td>\n",
       "      <td>NaN</td>\n",
       "    </tr>\n",
       "    <tr>\n",
       "      <th>a46b4402a0e5696</th>\n",
       "      <td>8</td>\n",
       "      <td>negative</td>\n",
       "      <td>0</td>\n",
       "      <td>0</td>\n",
       "      <td>0</td>\n",
       "      <td>NaN</td>\n",
       "      <td>NaN</td>\n",
       "      <td>NaN</td>\n",
       "      <td>NaN</td>\n",
       "      <td>NaN</td>\n",
       "      <td>...</td>\n",
       "      <td>NaN</td>\n",
       "      <td>NaN</td>\n",
       "      <td>NaN</td>\n",
       "      <td>NaN</td>\n",
       "      <td>NaN</td>\n",
       "      <td>NaN</td>\n",
       "      <td>NaN</td>\n",
       "      <td>NaN</td>\n",
       "      <td>NaN</td>\n",
       "      <td>NaN</td>\n",
       "    </tr>\n",
       "    <tr>\n",
       "      <th>f7d619a94f97c45</th>\n",
       "      <td>5</td>\n",
       "      <td>negative</td>\n",
       "      <td>0</td>\n",
       "      <td>0</td>\n",
       "      <td>0</td>\n",
       "      <td>NaN</td>\n",
       "      <td>NaN</td>\n",
       "      <td>NaN</td>\n",
       "      <td>NaN</td>\n",
       "      <td>NaN</td>\n",
       "      <td>...</td>\n",
       "      <td>NaN</td>\n",
       "      <td>NaN</td>\n",
       "      <td>NaN</td>\n",
       "      <td>NaN</td>\n",
       "      <td>NaN</td>\n",
       "      <td>NaN</td>\n",
       "      <td>NaN</td>\n",
       "      <td>NaN</td>\n",
       "      <td>NaN</td>\n",
       "      <td>NaN</td>\n",
       "    </tr>\n",
       "    <tr>\n",
       "      <th>d9e41465789c2b5</th>\n",
       "      <td>15</td>\n",
       "      <td>negative</td>\n",
       "      <td>0</td>\n",
       "      <td>0</td>\n",
       "      <td>0</td>\n",
       "      <td>NaN</td>\n",
       "      <td>NaN</td>\n",
       "      <td>NaN</td>\n",
       "      <td>NaN</td>\n",
       "      <td>NaN</td>\n",
       "      <td>...</td>\n",
       "      <td>NaN</td>\n",
       "      <td>NaN</td>\n",
       "      <td>NaN</td>\n",
       "      <td>NaN</td>\n",
       "      <td>NaN</td>\n",
       "      <td>NaN</td>\n",
       "      <td>NaN</td>\n",
       "      <td>NaN</td>\n",
       "      <td>NaN</td>\n",
       "      <td>NaN</td>\n",
       "    </tr>\n",
       "  </tbody>\n",
       "</table>\n",
       "<p>5 rows × 110 columns</p>\n",
       "</div>"
      ],
      "text/plain": [
       "                 Patient age quantile SARS-Cov-2 exam result  \\\n",
       "Patient ID                                                     \n",
       "44477f75e8169d2                    13               negative   \n",
       "126e9dd13932f68                    17               negative   \n",
       "a46b4402a0e5696                     8               negative   \n",
       "f7d619a94f97c45                     5               negative   \n",
       "d9e41465789c2b5                    15               negative   \n",
       "\n",
       "                 Patient addmited to regular ward (1=yes, 0=no)  \\\n",
       "Patient ID                                                        \n",
       "44477f75e8169d2                                               0   \n",
       "126e9dd13932f68                                               0   \n",
       "a46b4402a0e5696                                               0   \n",
       "f7d619a94f97c45                                               0   \n",
       "d9e41465789c2b5                                               0   \n",
       "\n",
       "                 Patient addmited to semi-intensive unit (1=yes, 0=no)  \\\n",
       "Patient ID                                                               \n",
       "44477f75e8169d2                                                  0       \n",
       "126e9dd13932f68                                                  0       \n",
       "a46b4402a0e5696                                                  0       \n",
       "f7d619a94f97c45                                                  0       \n",
       "d9e41465789c2b5                                                  0       \n",
       "\n",
       "                 Patient addmited to intensive care unit (1=yes, 0=no)  \\\n",
       "Patient ID                                                               \n",
       "44477f75e8169d2                                                  0       \n",
       "126e9dd13932f68                                                  0       \n",
       "a46b4402a0e5696                                                  0       \n",
       "f7d619a94f97c45                                                  0       \n",
       "d9e41465789c2b5                                                  0       \n",
       "\n",
       "                 Hematocrit  Hemoglobin  Platelets  Mean platelet volume   \\\n",
       "Patient ID                                                                  \n",
       "44477f75e8169d2         NaN         NaN        NaN                    NaN   \n",
       "126e9dd13932f68    0.236515    -0.02234  -0.517413               0.010677   \n",
       "a46b4402a0e5696         NaN         NaN        NaN                    NaN   \n",
       "f7d619a94f97c45         NaN         NaN        NaN                    NaN   \n",
       "d9e41465789c2b5         NaN         NaN        NaN                    NaN   \n",
       "\n",
       "                 Red blood Cells  ...  Hb saturation (arterial blood gases)  \\\n",
       "Patient ID                        ...                                         \n",
       "44477f75e8169d2              NaN  ...                                   NaN   \n",
       "126e9dd13932f68         0.102004  ...                                   NaN   \n",
       "a46b4402a0e5696              NaN  ...                                   NaN   \n",
       "f7d619a94f97c45              NaN  ...                                   NaN   \n",
       "d9e41465789c2b5              NaN  ...                                   NaN   \n",
       "\n",
       "                 pCO2 (arterial blood gas analysis)  \\\n",
       "Patient ID                                            \n",
       "44477f75e8169d2                                 NaN   \n",
       "126e9dd13932f68                                 NaN   \n",
       "a46b4402a0e5696                                 NaN   \n",
       "f7d619a94f97c45                                 NaN   \n",
       "d9e41465789c2b5                                 NaN   \n",
       "\n",
       "                 Base excess (arterial blood gas analysis)  \\\n",
       "Patient ID                                                   \n",
       "44477f75e8169d2                                        NaN   \n",
       "126e9dd13932f68                                        NaN   \n",
       "a46b4402a0e5696                                        NaN   \n",
       "f7d619a94f97c45                                        NaN   \n",
       "d9e41465789c2b5                                        NaN   \n",
       "\n",
       "                 pH (arterial blood gas analysis)  \\\n",
       "Patient ID                                          \n",
       "44477f75e8169d2                               NaN   \n",
       "126e9dd13932f68                               NaN   \n",
       "a46b4402a0e5696                               NaN   \n",
       "f7d619a94f97c45                               NaN   \n",
       "d9e41465789c2b5                               NaN   \n",
       "\n",
       "                 Total CO2 (arterial blood gas analysis)  \\\n",
       "Patient ID                                                 \n",
       "44477f75e8169d2                                      NaN   \n",
       "126e9dd13932f68                                      NaN   \n",
       "a46b4402a0e5696                                      NaN   \n",
       "f7d619a94f97c45                                      NaN   \n",
       "d9e41465789c2b5                                      NaN   \n",
       "\n",
       "                 HCO3 (arterial blood gas analysis)  \\\n",
       "Patient ID                                            \n",
       "44477f75e8169d2                                 NaN   \n",
       "126e9dd13932f68                                 NaN   \n",
       "a46b4402a0e5696                                 NaN   \n",
       "f7d619a94f97c45                                 NaN   \n",
       "d9e41465789c2b5                                 NaN   \n",
       "\n",
       "                 pO2 (arterial blood gas analysis)  Arteiral Fio2  Phosphor  \\\n",
       "Patient ID                                                                    \n",
       "44477f75e8169d2                                NaN            NaN       NaN   \n",
       "126e9dd13932f68                                NaN            NaN       NaN   \n",
       "a46b4402a0e5696                                NaN            NaN       NaN   \n",
       "f7d619a94f97c45                                NaN            NaN       NaN   \n",
       "d9e41465789c2b5                                NaN            NaN       NaN   \n",
       "\n",
       "                 ctO2 (arterial blood gas analysis)  \n",
       "Patient ID                                           \n",
       "44477f75e8169d2                                 NaN  \n",
       "126e9dd13932f68                                 NaN  \n",
       "a46b4402a0e5696                                 NaN  \n",
       "f7d619a94f97c45                                 NaN  \n",
       "d9e41465789c2b5                                 NaN  \n",
       "\n",
       "[5 rows x 110 columns]"
      ]
     },
     "execution_count": 4,
     "metadata": {},
     "output_type": "execute_result"
    }
   ],
   "source": [
    "df = data.copy()\n",
    "df.head()"
   ]
  },
  {
   "cell_type": "markdown",
   "metadata": {
    "colab_type": "text",
    "id": "wQhHMFpnIbCl"
   },
   "source": [
    "## Création des sous-ensembles (suite au EDA)"
   ]
  },
  {
   "cell_type": "code",
   "execution_count": 5,
   "metadata": {
    "ExecuteTime": {
     "end_time": "2020-05-28T10:23:46.093624Z",
     "start_time": "2020-05-28T10:23:46.040072Z"
    },
    "colab": {},
    "colab_type": "code",
    "id": "8G1piKjXIbCl"
   },
   "outputs": [],
   "source": [
    "missing_rate = df.isna().sum()/df.shape[0]"
   ]
  },
  {
   "cell_type": "code",
   "execution_count": 6,
   "metadata": {
    "ExecuteTime": {
     "end_time": "2020-05-28T10:23:46.892478Z",
     "start_time": "2020-05-28T10:23:46.887018Z"
    },
    "colab": {},
    "colab_type": "code",
    "id": "6kV9CmIGIbCn"
   },
   "outputs": [],
   "source": [
    "blood_columns = list(df.columns[(missing_rate < 0.9) & (missing_rate >0.88)])\n",
    "viral_columns = list(df.columns[(missing_rate < 0.80) & (missing_rate > 0.75)])"
   ]
  },
  {
   "cell_type": "code",
   "execution_count": 7,
   "metadata": {
    "ExecuteTime": {
     "end_time": "2020-05-28T10:23:47.992564Z",
     "start_time": "2020-05-28T10:23:47.988193Z"
    },
    "colab": {},
    "colab_type": "code",
    "id": "Bh9hD72bIbCp"
   },
   "outputs": [],
   "source": [
    "key_columns = ['Patient age quantile', 'SARS-Cov-2 exam result']"
   ]
  },
  {
   "cell_type": "code",
   "execution_count": 8,
   "metadata": {
    "ExecuteTime": {
     "end_time": "2020-05-28T10:23:48.771851Z",
     "start_time": "2020-05-28T10:23:48.743473Z"
    },
    "colab": {
     "base_uri": "https://localhost:8080/",
     "height": 306
    },
    "colab_type": "code",
    "id": "Eiy9tLeLIbCr",
    "outputId": "0fbc44dd-105b-4397-94f1-8e72d8ea8967"
   },
   "outputs": [
    {
     "data": {
      "text/html": [
       "<div>\n",
       "<style scoped>\n",
       "    .dataframe tbody tr th:only-of-type {\n",
       "        vertical-align: middle;\n",
       "    }\n",
       "\n",
       "    .dataframe tbody tr th {\n",
       "        vertical-align: top;\n",
       "    }\n",
       "\n",
       "    .dataframe thead th {\n",
       "        text-align: right;\n",
       "    }\n",
       "</style>\n",
       "<table border=\"1\" class=\"dataframe\">\n",
       "  <thead>\n",
       "    <tr style=\"text-align: right;\">\n",
       "      <th></th>\n",
       "      <th>Patient age quantile</th>\n",
       "      <th>SARS-Cov-2 exam result</th>\n",
       "      <th>Hematocrit</th>\n",
       "      <th>Hemoglobin</th>\n",
       "      <th>Platelets</th>\n",
       "      <th>Mean platelet volume</th>\n",
       "      <th>Red blood Cells</th>\n",
       "      <th>Lymphocytes</th>\n",
       "      <th>Mean corpuscular hemoglobin concentration (MCHC)</th>\n",
       "      <th>Leukocytes</th>\n",
       "      <th>...</th>\n",
       "      <th>Parainfluenza 3</th>\n",
       "      <th>Chlamydophila pneumoniae</th>\n",
       "      <th>Adenovirus</th>\n",
       "      <th>Parainfluenza 4</th>\n",
       "      <th>Coronavirus229E</th>\n",
       "      <th>CoronavirusOC43</th>\n",
       "      <th>Inf A H1N1 2009</th>\n",
       "      <th>Bordetella pertussis</th>\n",
       "      <th>Metapneumovirus</th>\n",
       "      <th>Parainfluenza 2</th>\n",
       "    </tr>\n",
       "    <tr>\n",
       "      <th>Patient ID</th>\n",
       "      <th></th>\n",
       "      <th></th>\n",
       "      <th></th>\n",
       "      <th></th>\n",
       "      <th></th>\n",
       "      <th></th>\n",
       "      <th></th>\n",
       "      <th></th>\n",
       "      <th></th>\n",
       "      <th></th>\n",
       "      <th></th>\n",
       "      <th></th>\n",
       "      <th></th>\n",
       "      <th></th>\n",
       "      <th></th>\n",
       "      <th></th>\n",
       "      <th></th>\n",
       "      <th></th>\n",
       "      <th></th>\n",
       "      <th></th>\n",
       "      <th></th>\n",
       "    </tr>\n",
       "  </thead>\n",
       "  <tbody>\n",
       "    <tr>\n",
       "      <th>44477f75e8169d2</th>\n",
       "      <td>13</td>\n",
       "      <td>negative</td>\n",
       "      <td>NaN</td>\n",
       "      <td>NaN</td>\n",
       "      <td>NaN</td>\n",
       "      <td>NaN</td>\n",
       "      <td>NaN</td>\n",
       "      <td>NaN</td>\n",
       "      <td>NaN</td>\n",
       "      <td>NaN</td>\n",
       "      <td>...</td>\n",
       "      <td>NaN</td>\n",
       "      <td>NaN</td>\n",
       "      <td>NaN</td>\n",
       "      <td>NaN</td>\n",
       "      <td>NaN</td>\n",
       "      <td>NaN</td>\n",
       "      <td>NaN</td>\n",
       "      <td>NaN</td>\n",
       "      <td>NaN</td>\n",
       "      <td>NaN</td>\n",
       "    </tr>\n",
       "    <tr>\n",
       "      <th>126e9dd13932f68</th>\n",
       "      <td>17</td>\n",
       "      <td>negative</td>\n",
       "      <td>0.236515</td>\n",
       "      <td>-0.02234</td>\n",
       "      <td>-0.517413</td>\n",
       "      <td>0.010677</td>\n",
       "      <td>0.102004</td>\n",
       "      <td>0.318366</td>\n",
       "      <td>-0.95079</td>\n",
       "      <td>-0.09461</td>\n",
       "      <td>...</td>\n",
       "      <td>not_detected</td>\n",
       "      <td>not_detected</td>\n",
       "      <td>not_detected</td>\n",
       "      <td>not_detected</td>\n",
       "      <td>not_detected</td>\n",
       "      <td>not_detected</td>\n",
       "      <td>not_detected</td>\n",
       "      <td>not_detected</td>\n",
       "      <td>not_detected</td>\n",
       "      <td>not_detected</td>\n",
       "    </tr>\n",
       "    <tr>\n",
       "      <th>a46b4402a0e5696</th>\n",
       "      <td>8</td>\n",
       "      <td>negative</td>\n",
       "      <td>NaN</td>\n",
       "      <td>NaN</td>\n",
       "      <td>NaN</td>\n",
       "      <td>NaN</td>\n",
       "      <td>NaN</td>\n",
       "      <td>NaN</td>\n",
       "      <td>NaN</td>\n",
       "      <td>NaN</td>\n",
       "      <td>...</td>\n",
       "      <td>NaN</td>\n",
       "      <td>NaN</td>\n",
       "      <td>NaN</td>\n",
       "      <td>NaN</td>\n",
       "      <td>NaN</td>\n",
       "      <td>NaN</td>\n",
       "      <td>NaN</td>\n",
       "      <td>NaN</td>\n",
       "      <td>NaN</td>\n",
       "      <td>NaN</td>\n",
       "    </tr>\n",
       "    <tr>\n",
       "      <th>f7d619a94f97c45</th>\n",
       "      <td>5</td>\n",
       "      <td>negative</td>\n",
       "      <td>NaN</td>\n",
       "      <td>NaN</td>\n",
       "      <td>NaN</td>\n",
       "      <td>NaN</td>\n",
       "      <td>NaN</td>\n",
       "      <td>NaN</td>\n",
       "      <td>NaN</td>\n",
       "      <td>NaN</td>\n",
       "      <td>...</td>\n",
       "      <td>NaN</td>\n",
       "      <td>NaN</td>\n",
       "      <td>NaN</td>\n",
       "      <td>NaN</td>\n",
       "      <td>NaN</td>\n",
       "      <td>NaN</td>\n",
       "      <td>NaN</td>\n",
       "      <td>NaN</td>\n",
       "      <td>NaN</td>\n",
       "      <td>NaN</td>\n",
       "    </tr>\n",
       "    <tr>\n",
       "      <th>d9e41465789c2b5</th>\n",
       "      <td>15</td>\n",
       "      <td>negative</td>\n",
       "      <td>NaN</td>\n",
       "      <td>NaN</td>\n",
       "      <td>NaN</td>\n",
       "      <td>NaN</td>\n",
       "      <td>NaN</td>\n",
       "      <td>NaN</td>\n",
       "      <td>NaN</td>\n",
       "      <td>NaN</td>\n",
       "      <td>...</td>\n",
       "      <td>not_detected</td>\n",
       "      <td>not_detected</td>\n",
       "      <td>not_detected</td>\n",
       "      <td>not_detected</td>\n",
       "      <td>not_detected</td>\n",
       "      <td>not_detected</td>\n",
       "      <td>not_detected</td>\n",
       "      <td>not_detected</td>\n",
       "      <td>not_detected</td>\n",
       "      <td>not_detected</td>\n",
       "    </tr>\n",
       "  </tbody>\n",
       "</table>\n",
       "<p>5 rows × 33 columns</p>\n",
       "</div>"
      ],
      "text/plain": [
       "                 Patient age quantile SARS-Cov-2 exam result  Hematocrit  \\\n",
       "Patient ID                                                                 \n",
       "44477f75e8169d2                    13               negative         NaN   \n",
       "126e9dd13932f68                    17               negative    0.236515   \n",
       "a46b4402a0e5696                     8               negative         NaN   \n",
       "f7d619a94f97c45                     5               negative         NaN   \n",
       "d9e41465789c2b5                    15               negative         NaN   \n",
       "\n",
       "                 Hemoglobin  Platelets  Mean platelet volume   \\\n",
       "Patient ID                                                      \n",
       "44477f75e8169d2         NaN        NaN                    NaN   \n",
       "126e9dd13932f68    -0.02234  -0.517413               0.010677   \n",
       "a46b4402a0e5696         NaN        NaN                    NaN   \n",
       "f7d619a94f97c45         NaN        NaN                    NaN   \n",
       "d9e41465789c2b5         NaN        NaN                    NaN   \n",
       "\n",
       "                 Red blood Cells  Lymphocytes  \\\n",
       "Patient ID                                      \n",
       "44477f75e8169d2              NaN          NaN   \n",
       "126e9dd13932f68         0.102004     0.318366   \n",
       "a46b4402a0e5696              NaN          NaN   \n",
       "f7d619a94f97c45              NaN          NaN   \n",
       "d9e41465789c2b5              NaN          NaN   \n",
       "\n",
       "                 Mean corpuscular hemoglobin concentration (MCHC)  Leukocytes  \\\n",
       "Patient ID                                                                      \n",
       "44477f75e8169d2                                               NaN         NaN   \n",
       "126e9dd13932f68                                          -0.95079    -0.09461   \n",
       "a46b4402a0e5696                                               NaN         NaN   \n",
       "f7d619a94f97c45                                               NaN         NaN   \n",
       "d9e41465789c2b5                                               NaN         NaN   \n",
       "\n",
       "                 ...  Parainfluenza 3  Chlamydophila pneumoniae    Adenovirus  \\\n",
       "Patient ID       ...                                                            \n",
       "44477f75e8169d2  ...              NaN                       NaN           NaN   \n",
       "126e9dd13932f68  ...     not_detected              not_detected  not_detected   \n",
       "a46b4402a0e5696  ...              NaN                       NaN           NaN   \n",
       "f7d619a94f97c45  ...              NaN                       NaN           NaN   \n",
       "d9e41465789c2b5  ...     not_detected              not_detected  not_detected   \n",
       "\n",
       "                 Parainfluenza 4  Coronavirus229E  CoronavirusOC43  \\\n",
       "Patient ID                                                           \n",
       "44477f75e8169d2              NaN              NaN              NaN   \n",
       "126e9dd13932f68     not_detected     not_detected     not_detected   \n",
       "a46b4402a0e5696              NaN              NaN              NaN   \n",
       "f7d619a94f97c45              NaN              NaN              NaN   \n",
       "d9e41465789c2b5     not_detected     not_detected     not_detected   \n",
       "\n",
       "                Inf A H1N1 2009 Bordetella pertussis Metapneumovirus  \\\n",
       "Patient ID                                                             \n",
       "44477f75e8169d2             NaN                  NaN             NaN   \n",
       "126e9dd13932f68    not_detected         not_detected    not_detected   \n",
       "a46b4402a0e5696             NaN                  NaN             NaN   \n",
       "f7d619a94f97c45             NaN                  NaN             NaN   \n",
       "d9e41465789c2b5    not_detected         not_detected    not_detected   \n",
       "\n",
       "                Parainfluenza 2  \n",
       "Patient ID                       \n",
       "44477f75e8169d2             NaN  \n",
       "126e9dd13932f68    not_detected  \n",
       "a46b4402a0e5696             NaN  \n",
       "f7d619a94f97c45             NaN  \n",
       "d9e41465789c2b5    not_detected  \n",
       "\n",
       "[5 rows x 33 columns]"
      ]
     },
     "execution_count": 8,
     "metadata": {},
     "output_type": "execute_result"
    }
   ],
   "source": [
    "df = df[key_columns + blood_columns + viral_columns]\n",
    "df.head()"
   ]
  },
  {
   "cell_type": "markdown",
   "metadata": {
    "colab_type": "text",
    "id": "vLL2wMjXIbCt"
   },
   "source": [
    "## TrainTest - Nettoyage - Encodage"
   ]
  },
  {
   "cell_type": "code",
   "execution_count": 9,
   "metadata": {
    "ExecuteTime": {
     "end_time": "2020-05-28T10:23:52.726294Z",
     "start_time": "2020-05-28T10:23:52.496092Z"
    },
    "colab": {},
    "colab_type": "code",
    "id": "gr0yL_tNIbCt"
   },
   "outputs": [],
   "source": [
    "from sklearn.model_selection import train_test_split"
   ]
  },
  {
   "cell_type": "code",
   "execution_count": 10,
   "metadata": {
    "ExecuteTime": {
     "end_time": "2020-05-28T10:23:53.966407Z",
     "start_time": "2020-05-28T10:23:53.956679Z"
    },
    "colab": {},
    "colab_type": "code",
    "id": "oDcImqzIIbCv"
   },
   "outputs": [],
   "source": [
    "trainset, testset = train_test_split(df, test_size=0.2, random_state=0)"
   ]
  },
  {
   "cell_type": "code",
   "execution_count": 11,
   "metadata": {
    "ExecuteTime": {
     "end_time": "2020-05-28T10:23:54.785530Z",
     "start_time": "2020-05-28T10:23:54.777357Z"
    },
    "colab": {
     "base_uri": "https://localhost:8080/",
     "height": 68
    },
    "colab_type": "code",
    "id": "la2nNYZnIbCw",
    "outputId": "d5b62317-d261-4ade-e3a6-8c4b8e85ed68"
   },
   "outputs": [
    {
     "data": {
      "text/plain": [
       "negative    4068\n",
       "positive     447\n",
       "Name: SARS-Cov-2 exam result, dtype: int64"
      ]
     },
     "execution_count": 11,
     "metadata": {},
     "output_type": "execute_result"
    }
   ],
   "source": [
    "trainset['SARS-Cov-2 exam result'].value_counts()"
   ]
  },
  {
   "cell_type": "code",
   "execution_count": 12,
   "metadata": {
    "ExecuteTime": {
     "end_time": "2020-05-28T10:23:55.752896Z",
     "start_time": "2020-05-28T10:23:55.744872Z"
    },
    "colab": {
     "base_uri": "https://localhost:8080/",
     "height": 68
    },
    "colab_type": "code",
    "id": "_k9wwJPSIbCy",
    "outputId": "a81d5ac5-6e51-43e1-a7b1-3505cc90c0c5"
   },
   "outputs": [
    {
     "data": {
      "text/plain": [
       "negative    1018\n",
       "positive     111\n",
       "Name: SARS-Cov-2 exam result, dtype: int64"
      ]
     },
     "execution_count": 12,
     "metadata": {},
     "output_type": "execute_result"
    }
   ],
   "source": [
    "testset['SARS-Cov-2 exam result'].value_counts()"
   ]
  },
  {
   "cell_type": "code",
   "execution_count": 13,
   "metadata": {
    "ExecuteTime": {
     "end_time": "2020-05-28T10:23:58.126571Z",
     "start_time": "2020-05-28T10:23:58.119847Z"
    },
    "colab": {},
    "colab_type": "code",
    "id": "lw5qiCAMIbC0"
   },
   "outputs": [],
   "source": [
    "def encodage(df):\n",
    "    code = {'negative':0,\n",
    "            'positive':1,\n",
    "            'not_detected':0,\n",
    "            'detected':1}\n",
    "    \n",
    "    for col in df.select_dtypes('object').columns:\n",
    "        df.loc[:,col] = df[col].map(code)\n",
    "        \n",
    "    return df"
   ]
  },
  {
   "cell_type": "code",
   "execution_count": 14,
   "metadata": {
    "ExecuteTime": {
     "end_time": "2020-05-28T10:23:58.920312Z",
     "start_time": "2020-05-28T10:23:58.915125Z"
    },
    "colab": {},
    "colab_type": "code",
    "id": "sGi8jRQHIbC2"
   },
   "outputs": [],
   "source": [
    "def feature_engineering(df):\n",
    "    df['est malade'] = df[viral_columns].sum(axis=1) >= 1\n",
    "    df = df.drop(viral_columns, axis=1)\n",
    "    return df"
   ]
  },
  {
   "cell_type": "code",
   "execution_count": 15,
   "metadata": {
    "ExecuteTime": {
     "end_time": "2020-05-28T10:23:59.750936Z",
     "start_time": "2020-05-28T10:23:59.746914Z"
    },
    "colab": {},
    "colab_type": "code",
    "id": "LX0iJidYIbC3"
   },
   "outputs": [],
   "source": [
    "def imputation(df):\n",
    "    #df['is na'] = (df['Parainfluenza 3'].isna()) | (df['Leukocytes'].isna())\n",
    "    #df = df.fillna(-999)\n",
    "    df = df.dropna(axis=0)\n",
    "    return  df"
   ]
  },
  {
   "cell_type": "code",
   "execution_count": 16,
   "metadata": {
    "ExecuteTime": {
     "end_time": "2020-05-28T10:24:00.585697Z",
     "start_time": "2020-05-28T10:24:00.581215Z"
    },
    "colab": {},
    "colab_type": "code",
    "id": "YIG24Y-lIbC6"
   },
   "outputs": [],
   "source": [
    "def preprocessing(df):\n",
    "    \n",
    "    df = encodage(df)\n",
    "    df = feature_engineering(df)\n",
    "    df = imputation(df)\n",
    "    \n",
    "    X = df.drop('SARS-Cov-2 exam result', axis=1)\n",
    "    y = df['SARS-Cov-2 exam result']\n",
    "    \n",
    "    print(y.value_counts())\n",
    "    \n",
    "    return X, y"
   ]
  },
  {
   "cell_type": "code",
   "execution_count": 17,
   "metadata": {
    "ExecuteTime": {
     "end_time": "2020-05-28T10:24:02.418738Z",
     "start_time": "2020-05-28T10:24:02.308874Z"
    },
    "colab": {
     "base_uri": "https://localhost:8080/",
     "height": 272
    },
    "colab_type": "code",
    "id": "_Kjv5JOZIbC8",
    "outputId": "87a4c8be-0daa-42fd-f8d5-a32e53733e2b"
   },
   "outputs": [
    {
     "name": "stdout",
     "output_type": "stream",
     "text": [
      "0    422\n",
      "1     65\n",
      "Name: SARS-Cov-2 exam result, dtype: int64\n"
     ]
    },
    {
     "name": "stderr",
     "output_type": "stream",
     "text": [
      "/Users/jmb/anaconda3/lib/python3.7/site-packages/pandas/core/indexing.py:966: SettingWithCopyWarning: \n",
      "A value is trying to be set on a copy of a slice from a DataFrame.\n",
      "Try using .loc[row_indexer,col_indexer] = value instead\n",
      "\n",
      "See the caveats in the documentation: https://pandas.pydata.org/pandas-docs/stable/user_guide/indexing.html#returning-a-view-versus-a-copy\n",
      "  self.obj[item] = s\n",
      "/Users/jmb/anaconda3/lib/python3.7/site-packages/ipykernel_launcher.py:2: SettingWithCopyWarning: \n",
      "A value is trying to be set on a copy of a slice from a DataFrame.\n",
      "Try using .loc[row_indexer,col_indexer] = value instead\n",
      "\n",
      "See the caveats in the documentation: https://pandas.pydata.org/pandas-docs/stable/user_guide/indexing.html#returning-a-view-versus-a-copy\n",
      "  \n"
     ]
    }
   ],
   "source": [
    "X_train, y_train = preprocessing(trainset)"
   ]
  },
  {
   "cell_type": "code",
   "execution_count": 18,
   "metadata": {
    "ExecuteTime": {
     "end_time": "2020-05-28T10:24:03.356772Z",
     "start_time": "2020-05-28T10:24:03.285829Z"
    },
    "colab": {
     "base_uri": "https://localhost:8080/",
     "height": 272
    },
    "colab_type": "code",
    "id": "WvUAMK3AIbC-",
    "outputId": "162c750e-39b9-4083-ce2c-38d5e28f0294"
   },
   "outputs": [
    {
     "name": "stdout",
     "output_type": "stream",
     "text": [
      "0    95\n",
      "1    16\n",
      "Name: SARS-Cov-2 exam result, dtype: int64\n"
     ]
    },
    {
     "name": "stderr",
     "output_type": "stream",
     "text": [
      "/Users/jmb/anaconda3/lib/python3.7/site-packages/ipykernel_launcher.py:2: SettingWithCopyWarning: \n",
      "A value is trying to be set on a copy of a slice from a DataFrame.\n",
      "Try using .loc[row_indexer,col_indexer] = value instead\n",
      "\n",
      "See the caveats in the documentation: https://pandas.pydata.org/pandas-docs/stable/user_guide/indexing.html#returning-a-view-versus-a-copy\n",
      "  \n"
     ]
    }
   ],
   "source": [
    "X_test, y_test = preprocessing(testset)"
   ]
  },
  {
   "cell_type": "markdown",
   "metadata": {
    "colab_type": "text",
    "id": "FwHiz5mzIbDM"
   },
   "source": [
    "## Procédure d'évaluation"
   ]
  },
  {
   "cell_type": "code",
   "execution_count": 19,
   "metadata": {
    "ExecuteTime": {
     "end_time": "2020-05-28T10:24:05.737921Z",
     "start_time": "2020-05-28T10:24:05.730126Z"
    },
    "colab": {},
    "colab_type": "code",
    "id": "VSs5YAMUIbDM"
   },
   "outputs": [],
   "source": [
    "from sklearn.metrics import f1_score, confusion_matrix, classification_report\n",
    "from sklearn.model_selection import learning_curve"
   ]
  },
  {
   "cell_type": "code",
   "execution_count": 20,
   "metadata": {
    "ExecuteTime": {
     "end_time": "2020-05-28T10:24:07.098045Z",
     "start_time": "2020-05-28T10:24:07.088811Z"
    },
    "colab": {},
    "colab_type": "code",
    "id": "iwrO3--hIbDN"
   },
   "outputs": [],
   "source": [
    "def evaluation(model):\n",
    "    \n",
    "    model.fit(X_train, y_train)\n",
    "    ypred = model.predict(X_test)\n",
    "    \n",
    "    print(confusion_matrix(y_test, ypred))\n",
    "    print(classification_report(y_test, ypred))\n",
    "    \n",
    "    N, train_score, val_score = learning_curve(model, X_train, y_train,\n",
    "                                              cv=4, scoring='f1',\n",
    "                                               train_sizes=np.linspace(0.1, 1, 10))\n",
    "    \n",
    "    \n",
    "    plt.figure(figsize=(12, 8))\n",
    "    plt.plot(N, train_score.mean(axis=1), label='train score')\n",
    "    plt.plot(N, val_score.mean(axis=1), label='validation score')\n",
    "    plt.legend()\n",
    "    \n",
    "    "
   ]
  },
  {
   "cell_type": "markdown",
   "metadata": {
    "colab_type": "text",
    "id": "E0nnq_AMIbC_"
   },
   "source": [
    "## Modélisation"
   ]
  },
  {
   "cell_type": "code",
   "execution_count": 22,
   "metadata": {
    "ExecuteTime": {
     "end_time": "2020-05-28T10:24:26.442803Z",
     "start_time": "2020-05-28T10:24:26.427241Z"
    },
    "colab": {},
    "colab_type": "code",
    "id": "otAEOyA8IbC_"
   },
   "outputs": [],
   "source": [
    "from sklearn.tree import DecisionTreeClassifier\n",
    "from sklearn.ensemble import RandomForestClassifier, AdaBoostClassifier\n",
    "from sklearn.svm import SVC\n",
    "from sklearn.neighbors import KNeighborsClassifier\n",
    "from sklearn.pipeline import make_pipeline\n",
    "from sklearn.feature_selection import SelectKBest, f_classif\n",
    "from sklearn.preprocessing import PolynomialFeatures, StandardScaler"
   ]
  },
  {
   "cell_type": "code",
   "execution_count": 23,
   "metadata": {
    "ExecuteTime": {
     "end_time": "2020-05-28T10:24:27.606081Z",
     "start_time": "2020-05-28T10:24:27.601623Z"
    },
    "colab": {},
    "colab_type": "code",
    "id": "9qTRLbWAIbDC"
   },
   "outputs": [],
   "source": [
    "preprocessor = make_pipeline(PolynomialFeatures(2, include_bias=False), SelectKBest(f_classif, k=10))"
   ]
  },
  {
   "cell_type": "code",
   "execution_count": 24,
   "metadata": {
    "ExecuteTime": {
     "end_time": "2020-05-28T10:24:29.474605Z",
     "start_time": "2020-05-28T10:24:29.468878Z"
    },
    "colab": {},
    "colab_type": "code",
    "id": "Lj3tKPn_IbDE"
   },
   "outputs": [],
   "source": [
    "RandomForest = make_pipeline(preprocessor, RandomForestClassifier(random_state=0))\n",
    "AdaBoost = make_pipeline(preprocessor, AdaBoostClassifier(random_state=0))\n",
    "SVM = make_pipeline(preprocessor, StandardScaler(), SVC(random_state=0))\n",
    "KNN = make_pipeline(preprocessor, StandardScaler(), KNeighborsClassifier())"
   ]
  },
  {
   "cell_type": "code",
   "execution_count": 25,
   "metadata": {
    "ExecuteTime": {
     "end_time": "2020-05-28T10:24:30.624491Z",
     "start_time": "2020-05-28T10:24:30.621024Z"
    },
    "colab": {},
    "colab_type": "code",
    "id": "WcH84TtXIbDF"
   },
   "outputs": [],
   "source": [
    "dict_of_models = {'RandomForest': RandomForest,\n",
    "                  'AdaBoost' : AdaBoost,\n",
    "                  'SVM': SVM,\n",
    "                  'KNN': KNN\n",
    "                 }"
   ]
  },
  {
   "cell_type": "code",
   "execution_count": 26,
   "metadata": {
    "ExecuteTime": {
     "end_time": "2020-05-28T10:24:42.368251Z",
     "start_time": "2020-05-28T10:24:32.597784Z"
    },
    "colab": {
     "base_uri": "https://localhost:8080/",
     "height": 1000
    },
    "colab_type": "code",
    "id": "BjITHlOmIbDH",
    "outputId": "071880f3-e28f-4159-ffd3-7d01232d462c"
   },
   "outputs": [
    {
     "name": "stdout",
     "output_type": "stream",
     "text": [
      "RandomForest\n",
      "[[91  4]\n",
      " [11  5]]\n",
      "              precision    recall  f1-score   support\n",
      "\n",
      "           0       0.89      0.96      0.92        95\n",
      "           1       0.56      0.31      0.40        16\n",
      "\n",
      "    accuracy                           0.86       111\n",
      "   macro avg       0.72      0.64      0.66       111\n",
      "weighted avg       0.84      0.86      0.85       111\n",
      "\n",
      "AdaBoost\n",
      "[[91  4]\n",
      " [ 9  7]]\n",
      "              precision    recall  f1-score   support\n",
      "\n",
      "           0       0.91      0.96      0.93        95\n",
      "           1       0.64      0.44      0.52        16\n",
      "\n",
      "    accuracy                           0.88       111\n",
      "   macro avg       0.77      0.70      0.73       111\n",
      "weighted avg       0.87      0.88      0.87       111\n",
      "\n",
      "SVM\n",
      "[[92  3]\n",
      " [10  6]]\n",
      "              precision    recall  f1-score   support\n",
      "\n",
      "           0       0.90      0.97      0.93        95\n",
      "           1       0.67      0.38      0.48        16\n",
      "\n",
      "    accuracy                           0.88       111\n",
      "   macro avg       0.78      0.67      0.71       111\n",
      "weighted avg       0.87      0.88      0.87       111\n",
      "\n",
      "KNN\n",
      "[[88  7]\n",
      " [ 8  8]]\n",
      "              precision    recall  f1-score   support\n",
      "\n",
      "           0       0.92      0.93      0.92        95\n",
      "           1       0.53      0.50      0.52        16\n",
      "\n",
      "    accuracy                           0.86       111\n",
      "   macro avg       0.72      0.71      0.72       111\n",
      "weighted avg       0.86      0.86      0.86       111\n",
      "\n"
     ]
    },
    {
     "data": {
      "image/png": "[encoded data removed]",
      "text/plain": [
       "<Figure size 864x576 with 1 Axes>"
      ]
     },
     "metadata": {
      "needs_background": "light"
     },
     "output_type": "display_data"
    },
    {
     "data": {
      "image/png": "[encoded data removed]",
      "text/plain": [
       "<Figure size 864x576 with 1 Axes>"
      ]
     },
     "metadata": {
      "needs_background": "light"
     },
     "output_type": "display_data"
    },
    {
     "data": {
      "image/png": "[encoded data removed]",
      "text/plain": [
       "<Figure size 864x576 with 1 Axes>"
      ]
     },
     "metadata": {
      "needs_background": "light"
     },
     "output_type": "display_data"
    },
    {
     "data": {
      "image/png": "[encoded data removed]",
      "text/plain": [
       "<Figure size 864x576 with 1 Axes>"
      ]
     },
     "metadata": {
      "needs_background": "light"
     },
     "output_type": "display_data"
    }
   ],
   "source": [
    "for name, model in dict_of_models.items():\n",
    "    print(name)\n",
    "    evaluation(model)"
   ]
  },
  {
   "cell_type": "markdown",
   "metadata": {
    "colab_type": "text",
    "id": "8PRMD19oIbDP"
   },
   "source": [
    "## OPTIMISATION"
   ]
  },
  {
   "cell_type": "code",
   "execution_count": 27,
   "metadata": {
    "ExecuteTime": {
     "end_time": "2020-05-28T10:25:15.416443Z",
     "start_time": "2020-05-28T10:25:15.405803Z"
    },
    "colab": {},
    "colab_type": "code",
    "id": "mvhgAM97IbDP"
   },
   "outputs": [],
   "source": [
    "from sklearn.model_selection import GridSearchCV, RandomizedSearchCV"
   ]
  },
  {
   "cell_type": "code",
   "execution_count": 28,
   "metadata": {
    "ExecuteTime": {
     "end_time": "2020-05-28T10:25:37.675463Z",
     "start_time": "2020-05-28T10:25:37.656805Z"
    },
    "colab": {
     "base_uri": "https://localhost:8080/",
     "height": 374
    },
    "colab_type": "code",
    "id": "mQUwE8t8IbDR",
    "outputId": "47e07fdc-f683-4496-8ea4-daa4e55f803a"
   },
   "outputs": [
    {
     "data": {
      "text/plain": [
       "Pipeline(memory=None,\n",
       "         steps=[('pipeline',\n",
       "                 Pipeline(memory=None,\n",
       "                          steps=[('polynomialfeatures',\n",
       "                                  PolynomialFeatures(degree=2,\n",
       "                                                     include_bias=False,\n",
       "                                                     interaction_only=False,\n",
       "                                                     order='C')),\n",
       "                                 ('selectkbest',\n",
       "                                  SelectKBest(k=10,\n",
       "                                              score_func=<function f_classif at 0x1a1d423c20>))],\n",
       "                          verbose=False)),\n",
       "                ('standardscaler',\n",
       "                 StandardScaler(copy=True, with_mean=True, with_std=True)),\n",
       "                ('svc',\n",
       "                 SVC(C=1.0, break_ties=False, cache_size=200, class_weight=None,\n",
       "                     coef0=0.0, decision_function_shape='ovr', degree=3,\n",
       "                     gamma='scale', kernel='rbf', max_iter=-1,\n",
       "                     probability=False, random_state=0, shrinking=True,\n",
       "                     tol=0.001, verbose=False))],\n",
       "         verbose=False)"
      ]
     },
     "execution_count": 28,
     "metadata": {},
     "output_type": "execute_result"
    }
   ],
   "source": [
    "SVM"
   ]
  },
  {
   "cell_type": "code",
   "execution_count": 29,
   "metadata": {
    "ExecuteTime": {
     "end_time": "2020-05-28T10:25:39.262152Z",
     "start_time": "2020-05-28T10:25:39.257536Z"
    },
    "colab": {},
    "colab_type": "code",
    "id": "_nZM8KN1IbDS"
   },
   "outputs": [],
   "source": [
    "hyper_params = {'svc__gamma':[1e-3, 1e-4, 0.0005],\n",
    "                'svc__C':[1, 10, 100, 1000, 3000], \n",
    "               'pipeline__polynomialfeatures__degree':[2, 3],\n",
    "               'pipeline__selectkbest__k': range(45, 60)}"
   ]
  },
  {
   "cell_type": "code",
   "execution_count": 30,
   "metadata": {
    "ExecuteTime": {
     "end_time": "2020-05-28T10:25:42.456374Z",
     "start_time": "2020-05-28T10:25:40.066207Z"
    },
    "colab": {
     "base_uri": "https://localhost:8080/",
     "height": 187
    },
    "colab_type": "code",
    "id": "fO-Q2IO7IbDU",
    "outputId": "8de8bb42-6f04-4ede-fe8e-9f23a411ce5d"
   },
   "outputs": [
    {
     "name": "stdout",
     "output_type": "stream",
     "text": [
      "{'svc__gamma': 0.0001, 'svc__C': 3000, 'pipeline__selectkbest__k': 55, 'pipeline__polynomialfeatures__degree': 3}\n",
      "              precision    recall  f1-score   support\n",
      "\n",
      "           0       0.92      0.92      0.92        95\n",
      "           1       0.50      0.50      0.50        16\n",
      "\n",
      "    accuracy                           0.86       111\n",
      "   macro avg       0.71      0.71      0.71       111\n",
      "weighted avg       0.86      0.86      0.86       111\n",
      "\n"
     ]
    }
   ],
   "source": [
    "grid = RandomizedSearchCV(SVM, hyper_params, scoring='recall', cv=4,\n",
    "                          n_iter=40)\n",
    "\n",
    "grid.fit(X_train, y_train)\n",
    "\n",
    "print(grid.best_params_)\n",
    "\n",
    "y_pred = grid.predict(X_test)\n",
    "\n",
    "print(classification_report(y_test, y_pred))"
   ]
  },
  {
   "cell_type": "code",
   "execution_count": 31,
   "metadata": {
    "ExecuteTime": {
     "end_time": "2020-05-28T10:25:46.404361Z",
     "start_time": "2020-05-28T10:25:45.543267Z"
    },
    "colab": {
     "base_uri": "https://localhost:8080/",
     "height": 670
    },
    "colab_type": "code",
    "id": "MvfmIptjIbDV",
    "outputId": "4a06e7e9-cff4-435b-aead-93cabfa7a23b"
   },
   "outputs": [
    {
     "name": "stdout",
     "output_type": "stream",
     "text": [
      "[[87  8]\n",
      " [ 8  8]]\n",
      "              precision    recall  f1-score   support\n",
      "\n",
      "           0       0.92      0.92      0.92        95\n",
      "           1       0.50      0.50      0.50        16\n",
      "\n",
      "    accuracy                           0.86       111\n",
      "   macro avg       0.71      0.71      0.71       111\n",
      "weighted avg       0.86      0.86      0.86       111\n",
      "\n"
     ]
    },
    {
     "data": {
      "image/png": "[encoded data removed]",
      "text/plain": [
       "<Figure size 864x576 with 1 Axes>"
      ]
     },
     "metadata": {
      "needs_background": "light"
     },
     "output_type": "display_data"
    }
   ],
   "source": [
    "evaluation(grid.best_estimator_)"
   ]
  },
  {
   "cell_type": "markdown",
   "metadata": {
    "colab_type": "text",
    "id": "xDDvT5JdIbDX"
   },
   "source": [
    "## Precision Recall Curve"
   ]
  },
  {
   "cell_type": "code",
   "execution_count": 32,
   "metadata": {
    "ExecuteTime": {
     "end_time": "2020-05-28T10:26:50.720291Z",
     "start_time": "2020-05-28T10:26:50.716527Z"
    },
    "colab": {},
    "colab_type": "code",
    "id": "5kSd_KEPIbDX"
   },
   "outputs": [],
   "source": [
    "from sklearn.metrics import precision_recall_curve"
   ]
  },
  {
   "cell_type": "code",
   "execution_count": 33,
   "metadata": {
    "ExecuteTime": {
     "end_time": "2020-05-28T10:26:51.541356Z",
     "start_time": "2020-05-28T10:26:51.529112Z"
    },
    "colab": {},
    "colab_type": "code",
    "id": "rLxdwesqIbDY"
   },
   "outputs": [],
   "source": [
    "precision, recall, threshold = precision_recall_curve(y_test, grid.best_estimator_.decision_function(X_test))"
   ]
  },
  {
   "cell_type": "code",
   "execution_count": 34,
   "metadata": {
    "ExecuteTime": {
     "end_time": "2020-05-28T10:26:53.014513Z",
     "start_time": "2020-05-28T10:26:52.841750Z"
    },
    "colab": {
     "base_uri": "https://localhost:8080/",
     "height": 282
    },
    "colab_type": "code",
    "id": "xz21-pRJIbDa",
    "outputId": "6eb105f6-6ceb-4480-b62d-cffc1de72374"
   },
   "outputs": [
    {
     "data": {
      "text/plain": [
       "<matplotlib.legend.Legend at 0x1a1e27cc10>"
      ]
     },
     "execution_count": 34,
     "metadata": {},
     "output_type": "execute_result"
    },
    {
     "data": {
      "image/png": "[encoded data removed]",
      "text/plain": [
       "<Figure size 432x288 with 1 Axes>"
      ]
     },
     "metadata": {
      "needs_background": "light"
     },
     "output_type": "display_data"
    }
   ],
   "source": [
    "plt.plot(threshold, precision[:-1], label='precision')\n",
    "plt.plot(threshold, recall[:-1], label='recall')\n",
    "plt.legend()"
   ]
  },
  {
   "cell_type": "code",
   "execution_count": 35,
   "metadata": {
    "ExecuteTime": {
     "end_time": "2020-05-28T10:26:55.554247Z",
     "start_time": "2020-05-28T10:26:55.549946Z"
    },
    "colab": {},
    "colab_type": "code",
    "id": "F2R9W5Z7IbDb"
   },
   "outputs": [],
   "source": [
    "def model_final(model, X, threshold=0):\n",
    "    return model.decision_function(X) > threshold"
   ]
  },
  {
   "cell_type": "code",
   "execution_count": 36,
   "metadata": {
    "ExecuteTime": {
     "end_time": "2020-05-28T10:26:56.181784Z",
     "start_time": "2020-05-28T10:26:56.174438Z"
    },
    "colab": {},
    "colab_type": "code",
    "id": "0i-3X_r_IbDe"
   },
   "outputs": [],
   "source": [
    "y_pred = model_final(grid.best_estimator_, X_test, threshold=-1)"
   ]
  },
  {
   "cell_type": "code",
   "execution_count": 37,
   "metadata": {
    "ExecuteTime": {
     "end_time": "2020-05-28T10:26:56.864121Z",
     "start_time": "2020-05-28T10:26:56.860947Z"
    },
    "colab": {},
    "colab_type": "code",
    "id": "UJ4F1aljIbDf"
   },
   "outputs": [],
   "source": [
    "from sklearn.metrics import recall_score"
   ]
  },
  {
   "cell_type": "code",
   "execution_count": 38,
   "metadata": {
    "ExecuteTime": {
     "end_time": "2020-05-28T10:26:57.472367Z",
     "start_time": "2020-05-28T10:26:57.454134Z"
    },
    "colab": {
     "base_uri": "https://localhost:8080/",
     "height": 34
    },
    "colab_type": "code",
    "id": "zkqpdNE7IbDh",
    "outputId": "11b9a86a-7baf-49fb-f59c-b950a2e8c8a0"
   },
   "outputs": [
    {
     "data": {
      "text/plain": [
       "0.5116279069767441"
      ]
     },
     "execution_count": 38,
     "metadata": {},
     "output_type": "execute_result"
    }
   ],
   "source": [
    "f1_score(y_test, y_pred)"
   ]
  },
  {
   "cell_type": "code",
   "execution_count": 39,
   "metadata": {
    "ExecuteTime": {
     "end_time": "2020-05-28T10:26:58.411822Z",
     "start_time": "2020-05-28T10:26:58.368894Z"
    },
    "colab": {
     "base_uri": "https://localhost:8080/",
     "height": 34
    },
    "colab_type": "code",
    "id": "6w3j37sQIbDj",
    "outputId": "04002ffb-19b8-47fb-be75-f26b7300ae9b"
   },
   "outputs": [
    {
     "data": {
      "text/plain": [
       "0.6875"
      ]
     },
     "execution_count": 39,
     "metadata": {},
     "output_type": "execute_result"
    }
   ],
   "source": [
    "recall_score(y_test, y_pred)"
   ]
  },
  {
   "cell_type": "code",
   "execution_count": 41,
   "metadata": {
    "ExecuteTime": {
     "end_time": "2020-06-03T13:42:05.777608Z",
     "start_time": "2020-06-03T13:42:05.757056Z"
    }
   },
   "outputs": [
    {
     "data": {
      "text/plain": [
       "Pipeline(memory=None,\n",
       "         steps=[('pipeline',\n",
       "                 Pipeline(memory=None,\n",
       "                          steps=[('polynomialfeatures',\n",
       "                                  PolynomialFeatures(degree=2,\n",
       "                                                     include_bias=False,\n",
       "                                                     interaction_only=False,\n",
       "                                                     order='C')),\n",
       "                                 ('selectkbest',\n",
       "                                  SelectKBest(k=10,\n",
       "                                              score_func=<function f_classif at 0x1a1d423c20>))],\n",
       "                          verbose=False)),\n",
       "                ('randomforestclassifier',\n",
       "                 RandomForestClassifier(bootstrap=True, ccp_alpha=0.0,\n",
       "                                        class_weight=None, criterion='gini',\n",
       "                                        max_depth=None, max_features='auto',\n",
       "                                        max_leaf_nodes=None, max_samples=None,\n",
       "                                        min_impurity_decrease=0.0,\n",
       "                                        min_impurity_split=None,\n",
       "                                        min_samples_leaf=1, min_samples_split=2,\n",
       "                                        min_weight_fraction_leaf=0.0,\n",
       "                                        n_estimators=100, n_jobs=None,\n",
       "                                        oob_score=False, random_state=0,\n",
       "                                        verbose=0, warm_start=False))],\n",
       "         verbose=False)"
      ]
     },
     "execution_count": 41,
     "metadata": {},
     "output_type": "execute_result"
    }
   ],
   "source": [
    "RandomForest"
   ]
  },
  {
   "cell_type": "code",
   "execution_count": null,
   "metadata": {},
   "outputs": [],
   "source": []
  }
 ],
 "metadata": {
  "colab": {
   "include_colab_link": true,
   "name": "Untitled5-Copy7.ipynb",
   "provenance": []
  },
  "kernelspec": {
   "display_name": "Python 3",
   "language": "python",
   "name": "python3"
  },
  "language_info": {
   "codemirror_mode": {
    "name": "ipython",
    "version": 3
   },
   "file_extension": ".py",
   "mimetype": "text/x-python",
   "name": "python",
   "nbconvert_exporter": "python",
   "pygments_lexer": "ipython3",
   "version": "3.7.6"
  }
 },
 "nbformat": 4,
 "nbformat_minor": 1
}
