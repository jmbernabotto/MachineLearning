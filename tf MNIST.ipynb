{
 "cells": [
  {
   "cell_type": "code",
   "execution_count": 1,
   "metadata": {},
   "outputs": [],
   "source": [
    "import tensorflow as tf\n",
    "from sklearn.model_selection import train_test_split\n",
    "from sklearn.preprocessing import StandardScaler\n",
    "import matplotlib.pyplot as plt\n",
    "import numpy as np\n",
    "import pandas as pd"
   ]
  },
  {
   "cell_type": "code",
   "execution_count": 14,
   "metadata": {},
   "outputs": [],
   "source": [
    "mnist = tf.keras.datasets.mnist\n",
    "(images, targets), (images_valid, targets_valid) = mnist.load_data()\n",
    "images, images_valid= images / 255.0, images_valid / 255.0\n"
   ]
  },
  {
   "cell_type": "code",
   "execution_count": 15,
   "metadata": {},
   "outputs": [],
   "source": [
    "images=images.reshape(-1,28,28,1)"
   ]
  },
  {
   "cell_type": "code",
   "execution_count": 16,
   "metadata": {},
   "outputs": [
    {
     "data": {
      "text/plain": [
       "(60000, 28, 28, 1)"
      ]
     },
     "execution_count": 16,
     "metadata": {},
     "output_type": "execute_result"
    }
   ],
   "source": [
    "images.shape"
   ]
  },
  {
   "cell_type": "code",
   "execution_count": 17,
   "metadata": {},
   "outputs": [],
   "source": [
    "# On selectionne un echantillon de 12 images au hasard\n",
    "images_demo = images.reshape((-1, 28, 28))\n",
    "select = np.random.randint(images.shape[0], size=12)"
   ]
  },
  {
   "cell_type": "code",
   "execution_count": 18,
   "metadata": {},
   "outputs": [
    {
     "data": {
      "image/png": "[encoded data removed]",
      "text/plain": [
       "<Figure size 432x288 with 12 Axes>"
      ]
     },
     "metadata": {
      "needs_background": "light"
     },
     "output_type": "display_data"
    }
   ],
   "source": [
    "# On affiche les images \n",
    "for index, value in enumerate(select):\n",
    "    plt.subplot(3,4,index+1)\n",
    "    plt.axis('off')\n",
    "    plt.imshow(images_demo[value],cmap=plt.cm.gray_r,interpolation=\"nearest\")\n",
    "    \n",
    "\n",
    "plt.show()"
   ]
  },
  {
   "cell_type": "code",
   "execution_count": 19,
   "metadata": {},
   "outputs": [
    {
     "name": "stdout",
     "output_type": "stream",
     "text": [
      "Moyenne et écart-type des images 0.1306604762738429 0.3081078038564622\n",
      "Moyenne et écart-type des images remise à l'échelle 5.1098400794094047e-14 0.956316274213992\n"
     ]
    }
   ],
   "source": [
    "print(\"Moyenne et écart-type des images\", images.mean(), images.std())\n",
    "scaler = StandardScaler()\n",
    "scaled_images = scaler.fit_transform(images.reshape(-1, 28*28))\n",
    "scaled_images_valid = scaler.transform(images_valid.reshape(-1, 28*28))\n",
    "print(\"Moyenne et écart-type des images remise à l'échelle\", scaled_images.mean(), scaled_images.std())\n",
    "\n",
    "scaled_images = scaled_images.reshape(-1, 28, 28, 1)\n",
    "scaled_images_valid = scaled_images_valid.reshape(-1, 28, 28, 1)"
   ]
  },
  {
   "cell_type": "code",
   "execution_count": 20,
   "metadata": {},
   "outputs": [],
   "source": [
    "#on crée un dataset pour les manipulations dans tensorflow\n",
    "train_dataset = tf.data.Dataset.from_tensor_slices(scaled_images)\n",
    "valid_dataset = tf.data.Dataset.from_tensor_slices(scaled_images_valid)"
   ]
  },
  {
   "cell_type": "code",
   "execution_count": 21,
   "metadata": {},
   "outputs": [
    {
     "name": "stdout",
     "output_type": "stream",
     "text": [
      "(28, 28, 1)\n"
     ]
    }
   ],
   "source": [
    "#taille de chaque composante du dataset image de 28 par 28 avec une catégorie, la cible\n",
    "for item in train_dataset:\n",
    "    print(item.shape)\n",
    "    break"
   ]
  },
  {
   "cell_type": "code",
   "execution_count": 22,
   "metadata": {},
   "outputs": [
    {
     "name": "stdout",
     "output_type": "stream",
     "text": [
      "(32, 28, 28, 1)\n"
     ]
    }
   ],
   "source": [
    "# Itération sur le dataset  avec un nombre d'époch et une taille de batch\n",
    "\n",
    "epoch = 1\n",
    "batch_size = 32\n",
    "for batch_training in train_dataset.repeat(epoch).batch(32):\n",
    "    print(batch_training.shape)\n",
    "    break\n",
    "\n"
   ]
  },
  {
   "cell_type": "code",
   "execution_count": 23,
   "metadata": {},
   "outputs": [],
   "source": [
    "#on crée maintenant le train set pour tensorflow\n",
    "train_dataset = tf.data.Dataset.from_tensor_slices((scaled_images, targets))\n",
    "valid_dataset = tf.data.Dataset.from_tensor_slices((scaled_images_valid, targets_valid))"
   ]
  },
  {
   "cell_type": "code",
   "execution_count": 24,
   "metadata": {},
   "outputs": [
    {
     "data": {
      "text/plain": [
       "<bound method DatasetV2.batch of <TensorSliceDataset shapes: ((28, 28, 1), ()), types: (tf.float64, tf.uint8)>>"
      ]
     },
     "execution_count": 24,
     "metadata": {},
     "output_type": "execute_result"
    }
   ],
   "source": [
    "train_dataset.batch"
   ]
  },
  {
   "cell_type": "code",
   "execution_count": 25,
   "metadata": {},
   "outputs": [
    {
     "name": "stdout",
     "output_type": "stream",
     "text": [
      "(32, 28, 28, 1) (32,)\n"
     ]
    }
   ],
   "source": [
    "# et on recommence sur le train set des itérations avec epoch et batch\n",
    "epoch = 1\n",
    "batch_size = 32\n",
    "for images_batch, targets_batch in train_dataset.repeat(epoch).batch(batch_size):\n",
    "    print(images_batch.shape, targets_batch.shape)\n",
    "    break\n"
   ]
  },
  {
   "cell_type": "code",
   "execution_count": 26,
   "metadata": {},
   "outputs": [],
   "source": [
    "class ConvModel(tf.keras.Model):\n",
    "    \n",
    "    def __init__(self):\n",
    "        super(ConvModel, self).__init__()\n",
    "        # Convolutions\n",
    "        self.conv1 = tf.keras.layers.Conv2D(32, 4, activation='relu', name=\"conv1\")\n",
    "        self.conv2 = tf.keras.layers.Conv2D(64, 3, activation='relu', name=\"conv2\")\n",
    "        self.conv3 = tf.keras.layers.Conv2D(128, 3, activation='relu', name=\"conv3\")\n",
    "        # Flatten the convolution\n",
    "        self.flatten = tf.keras.layers.Flatten(name=\"flatten\")       \n",
    "        # Dense layers\n",
    "        self.d1 = tf.keras.layers.Dense(128, activation='relu', name=\"d1\")\n",
    "        self.out = tf.keras.layers.Dense(10, activation='softmax', name=\"output\")\n",
    "\n",
    "    def call(self, image):\n",
    "        conv1 = self.conv1(image)\n",
    "        conv2 = self.conv2(conv1)\n",
    "        conv3 = self.conv3(conv2)\n",
    "        flatten = self.flatten(conv3)\n",
    "        d1 = self.d1(flatten)\n",
    "        output = self.out(d1)\n",
    "        return output"
   ]
  },
  {
   "cell_type": "code",
   "execution_count": 27,
   "metadata": {},
   "outputs": [
    {
     "data": {
      "text/plain": [
       "array([[0.10384555, 0.0987796 , 0.10573256, 0.10246237, 0.0886752 ,\n",
       "        0.0971439 , 0.10572062, 0.09265122, 0.11254657, 0.09244239]],\n",
       "      dtype=float32)"
      ]
     },
     "execution_count": 27,
     "metadata": {},
     "output_type": "execute_result"
    }
   ],
   "source": [
    "model = ConvModel()\n",
    "model.predict(scaled_images[0:1])"
   ]
  },
  {
   "cell_type": "code",
   "execution_count": 28,
   "metadata": {},
   "outputs": [],
   "source": [
    "#on chosit notre métrique de fonction de cout ici par Cross Entropie\n",
    "#et on choisit notre optimizer pour la descente de gradient afin de calculer les poids \n",
    "# optimum dans le réseau entièrement connecté\n",
    "loss_object = tf.keras.losses.SparseCategoricalCrossentropy()\n",
    "optimizer = tf.keras.optimizers.Adam()"
   ]
  },
  {
   "cell_type": "code",
   "execution_count": 29,
   "metadata": {},
   "outputs": [],
   "source": [
    "#on chosit nos métriques pour voir la progression de la convergence du train set et du validation set\n",
    "# Loss : erreur moyenne commise\n",
    "train_loss = tf.keras.metrics.Mean(name='train_loss')\n",
    "valid_loss = tf.keras.metrics.Mean(name='valid_loss')\n",
    "# Accuracy : précision \n",
    "train_accuracy = tf.keras.metrics.SparseCategoricalAccuracy(name='train_accuracy')\n",
    "valid_accuracy = tf.keras.metrics.SparseCategoricalAccuracy(name='valid_accuracy')"
   ]
  },
  {
   "cell_type": "code",
   "execution_count": 30,
   "metadata": {},
   "outputs": [],
   "source": [
    "#on entraine le modèle\n",
    "@tf.function\n",
    "def train_step(image, targets):\n",
    "    with tf.GradientTape() as tape:\n",
    "        # Make a prediction on all the batch\n",
    "        predictions = model(image)\n",
    "        # Get the error/loss on these predictions\n",
    "        loss = loss_object(targets, predictions)\n",
    "    # Compute the gradient which respect to the loss\n",
    "    gradients = tape.gradient(loss, model.trainable_variables)\n",
    "    # Change the weights of the model\n",
    "    optimizer.apply_gradients(zip(gradients, model.trainable_variables))\n",
    "    # The metrics are accumulate over time. You don't need to average it yourself.\n",
    "    train_loss(loss)\n",
    "    train_accuracy(targets, predictions)\n"
   ]
  },
  {
   "cell_type": "code",
   "execution_count": 31,
   "metadata": {},
   "outputs": [],
   "source": [
    "#on passe par la validation\n",
    "@tf.function\n",
    "def valid_step(image, targets):\n",
    "    predictions = model(image)\n",
    "    t_loss = loss_object(targets, predictions)\n",
    "    # Set the metrics for the test\n",
    "    valid_loss(t_loss)\n",
    "    valid_accuracy(targets, predictions)"
   ]
  },
  {
   "cell_type": "code",
   "execution_count": 32,
   "metadata": {},
   "outputs": [
    {
     "name": "stdout",
     "output_type": "stream",
     "text": [
      "WARNING:tensorflow:Layer conv_model is casting an input tensor from dtype float64 to the layer's dtype of float32, which is new behavior in TensorFlow 2.  The layer has dtype float32 because it's dtype defaults to floatx.\n",
      "\n",
      "If you intended to run this layer in float32, you can safely ignore this warning. If in doubt, this warning is likely only an issue if you are porting a TensorFlow 1.X model to TensorFlow 2.\n",
      "\n",
      "To change all layers to have dtype float64 by default, call `tf.keras.backend.set_floatx('float64')`. To change just this layer, pass dtype='float64' to the layer constructor. If you are the author of this layer, you can disable autocasting by passing autocast=False to the base Layer constructor.\n",
      "\n",
      " Batch 59968/60000, Loss: 0.11103404313325882, Accuracy: 96.79000091552734\n",
      "Epoch 1, Valid Loss: 0.052142418920993805, Valid Accuracy: 98.25999450683594\n",
      " Batch 119968/60000, Loss: 0.03674660623073578, Accuracy: 98.861663818359382\n",
      "Epoch 2, Valid Loss: 0.07608325034379959, Valid Accuracy: 97.68000030517578\n",
      " Batch 179968/60000, Loss: 0.022759519517421722, Accuracy: 99.27166748046875\n",
      "Epoch 3, Valid Loss: 0.061213601380586624, Valid Accuracy: 98.43999481201172\n"
     ]
    }
   ],
   "source": [
    "epoch = 3\n",
    "batch_size = 32\n",
    "b = 0\n",
    "for epoch in range(epoch):\n",
    "    # Training set\n",
    "    for images_batch, targets_batch in train_dataset.batch(batch_size):\n",
    "        train_step(images_batch, targets_batch)\n",
    "        template = '\\r Batch {}/{}, Loss: {}, Accuracy: {}'\n",
    "        print(template.format(\n",
    "            b, len(targets), train_loss.result(), \n",
    "            train_accuracy.result()*100\n",
    "        ), end=\"\")\n",
    "        b += batch_size\n",
    "    # Validation set\n",
    "    for images_batch, targets_batch in valid_dataset.batch(batch_size):\n",
    "        valid_step(images_batch, targets_batch)\n",
    "\n",
    "    template = '\\nEpoch {}, Valid Loss: {}, Valid Accuracy: {}'\n",
    "    print(template.format(\n",
    "        epoch+1,\n",
    "        valid_loss.result(), \n",
    "        valid_accuracy.result()*100)\n",
    "    )\n",
    "    valid_loss.reset_states()\n",
    "    valid_accuracy.reset_states()\n",
    "    train_accuracy.reset_states()\n",
    "    train_loss.reset_states()"
   ]
  },
  {
   "cell_type": "code",
   "execution_count": null,
   "metadata": {},
   "outputs": [],
   "source": []
  }
 ],
 "metadata": {
  "kernelspec": {
   "display_name": "Python 3",
   "language": "python",
   "name": "python3"
  },
  "language_info": {
   "codemirror_mode": {
    "name": "ipython",
    "version": 3
   },
   "file_extension": ".py",
   "mimetype": "text/x-python",
   "name": "python",
   "nbconvert_exporter": "python",
   "pygments_lexer": "ipython3",
   "version": "3.7.6"
  }
 },
 "nbformat": 4,
 "nbformat_minor": 2
}
