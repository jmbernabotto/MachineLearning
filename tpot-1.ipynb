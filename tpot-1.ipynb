{
 "cells": [
  {
   "cell_type": "code",
   "execution_count": 1,
   "metadata": {
    "ExecuteTime": {
     "end_time": "2020-06-14T07:37:07.412382Z",
     "start_time": "2020-06-14T07:37:07.407917Z"
    }
   },
   "outputs": [],
   "source": [
    "from tpot import TPOTRegressor"
   ]
  },
  {
   "cell_type": "code",
   "execution_count": 2,
   "metadata": {
    "ExecuteTime": {
     "end_time": "2020-06-14T07:37:19.875953Z",
     "start_time": "2020-06-14T07:37:19.871597Z"
    }
   },
   "outputs": [],
   "source": [
    "import pandas as pd"
   ]
  },
  {
   "cell_type": "code",
   "execution_count": 3,
   "metadata": {
    "ExecuteTime": {
     "end_time": "2020-06-14T07:37:29.738439Z",
     "start_time": "2020-06-14T07:37:29.633629Z"
    }
   },
   "outputs": [],
   "source": [
    "df=pd.read_excel('ducati_monster_s.xlsx')"
   ]
  },
  {
   "cell_type": "code",
   "execution_count": 4,
   "metadata": {
    "ExecuteTime": {
     "end_time": "2020-06-14T07:37:37.499502Z",
     "start_time": "2020-06-14T07:37:37.442855Z"
    }
   },
   "outputs": [
    {
     "data": {
      "text/html": [
       "<div>\n",
       "<style scoped>\n",
       "    .dataframe tbody tr th:only-of-type {\n",
       "        vertical-align: middle;\n",
       "    }\n",
       "\n",
       "    .dataframe tbody tr th {\n",
       "        vertical-align: top;\n",
       "    }\n",
       "\n",
       "    .dataframe thead th {\n",
       "        text-align: right;\n",
       "    }\n",
       "</style>\n",
       "<table border=\"1\" class=\"dataframe\">\n",
       "  <thead>\n",
       "    <tr style=\"text-align: right;\">\n",
       "      <th></th>\n",
       "      <th>Mois</th>\n",
       "      <th>Annee</th>\n",
       "      <th>km</th>\n",
       "      <th>Pot</th>\n",
       "      <th>Prix</th>\n",
       "    </tr>\n",
       "  </thead>\n",
       "  <tbody>\n",
       "    <tr>\n",
       "      <th>0</th>\n",
       "      <td>3</td>\n",
       "      <td>2017</td>\n",
       "      <td>9770</td>\n",
       "      <td>0</td>\n",
       "      <td>12390</td>\n",
       "    </tr>\n",
       "    <tr>\n",
       "      <th>1</th>\n",
       "      <td>4</td>\n",
       "      <td>2017</td>\n",
       "      <td>19524</td>\n",
       "      <td>1</td>\n",
       "      <td>12900</td>\n",
       "    </tr>\n",
       "    <tr>\n",
       "      <th>2</th>\n",
       "      <td>4</td>\n",
       "      <td>2019</td>\n",
       "      <td>1500</td>\n",
       "      <td>0</td>\n",
       "      <td>13980</td>\n",
       "    </tr>\n",
       "    <tr>\n",
       "      <th>3</th>\n",
       "      <td>1</td>\n",
       "      <td>2017</td>\n",
       "      <td>10500</td>\n",
       "      <td>0</td>\n",
       "      <td>12900</td>\n",
       "    </tr>\n",
       "    <tr>\n",
       "      <th>4</th>\n",
       "      <td>3</td>\n",
       "      <td>2017</td>\n",
       "      <td>12300</td>\n",
       "      <td>0</td>\n",
       "      <td>12990</td>\n",
       "    </tr>\n",
       "  </tbody>\n",
       "</table>\n",
       "</div>"
      ],
      "text/plain": [
       "   Mois  Annee     km  Pot   Prix\n",
       "0     3   2017   9770    0  12390\n",
       "1     4   2017  19524    1  12900\n",
       "2     4   2019   1500    0  13980\n",
       "3     1   2017  10500    0  12900\n",
       "4     3   2017  12300    0  12990"
      ]
     },
     "execution_count": 4,
     "metadata": {},
     "output_type": "execute_result"
    }
   ],
   "source": [
    "df.head()"
   ]
  },
  {
   "cell_type": "code",
   "execution_count": 5,
   "metadata": {
    "ExecuteTime": {
     "end_time": "2020-06-14T07:38:24.027635Z",
     "start_time": "2020-06-14T07:38:24.010726Z"
    }
   },
   "outputs": [],
   "source": [
    "pipe=TPOTRegressor()"
   ]
  },
  {
   "cell_type": "code",
   "execution_count": 6,
   "metadata": {
    "ExecuteTime": {
     "end_time": "2020-06-14T07:38:26.176378Z",
     "start_time": "2020-06-14T07:38:26.156889Z"
    }
   },
   "outputs": [
    {
     "data": {
      "text/plain": [
       "TPOTRegressor(config_dict=None, crossover_rate=0.1, cv=5,\n",
       "              disable_update_check=False, early_stop=None, generations=100,\n",
       "              log_file=None, max_eval_time_mins=5, max_time_mins=None,\n",
       "              memory=None, mutation_rate=0.9, n_jobs=1, offspring_size=None,\n",
       "              periodic_checkpoint_folder=None, population_size=100,\n",
       "              random_state=None, scoring=None, subsample=1.0, template=None,\n",
       "              use_dask=False, verbosity=0, warm_start=False)"
      ]
     },
     "execution_count": 6,
     "metadata": {},
     "output_type": "execute_result"
    }
   ],
   "source": [
    "pipe"
   ]
  },
  {
   "cell_type": "code",
   "execution_count": 7,
   "metadata": {
    "ExecuteTime": {
     "end_time": "2020-06-14T07:39:43.838317Z",
     "start_time": "2020-06-14T07:39:43.831947Z"
    }
   },
   "outputs": [],
   "source": [
    "X = df.iloc[:, :-1].values\n",
    "y = df.iloc[:, -1].values"
   ]
  },
  {
   "cell_type": "code",
   "execution_count": 8,
   "metadata": {
    "ExecuteTime": {
     "end_time": "2020-06-14T07:45:20.098776Z",
     "start_time": "2020-06-14T07:39:47.875557Z"
    }
   },
   "outputs": [
    {
     "name": "stderr",
     "output_type": "stream",
     "text": [
      "/Users/jmb/anaconda3/lib/python3.7/importlib/_bootstrap.py:219: RuntimeWarning: numpy.ufunc size changed, may indicate binary incompatibility. Expected 192 from C header, got 216 from PyObject\n",
      "  return f(*args, **kwds)\n"
     ]
    },
    {
     "data": {
      "text/plain": [
       "TPOTRegressor(config_dict=None, crossover_rate=0.1, cv=5,\n",
       "              disable_update_check=False, early_stop=None, generations=100,\n",
       "              log_file=<ipykernel.iostream.OutStream object at 0x7fb9d019d8d0>,\n",
       "              max_eval_time_mins=5, max_time_mins=None, memory=None,\n",
       "              mutation_rate=0.9, n_jobs=1, offspring_size=None,\n",
       "              periodic_checkpoint_folder=None, population_size=100,\n",
       "              random_state=None, scoring=None, subsample=1.0, template=None,\n",
       "              use_dask=False, verbosity=0, warm_start=False)"
      ]
     },
     "execution_count": 8,
     "metadata": {},
     "output_type": "execute_result"
    }
   ],
   "source": [
    "pipe.fit(X,y)"
   ]
  },
  {
   "cell_type": "code",
   "execution_count": 9,
   "metadata": {
    "ExecuteTime": {
     "end_time": "2020-06-14T07:45:20.185115Z",
     "start_time": "2020-06-14T07:45:20.152545Z"
    }
   },
   "outputs": [
    {
     "data": {
      "text/plain": [
       "-645868.6318568027"
      ]
     },
     "execution_count": 9,
     "metadata": {},
     "output_type": "execute_result"
    }
   ],
   "source": [
    "pipe.score(X,y)"
   ]
  },
  {
   "cell_type": "code",
   "execution_count": null,
   "metadata": {},
   "outputs": [],
   "source": []
  }
 ],
 "metadata": {
  "kernelspec": {
   "display_name": "Python 3",
   "language": "python",
   "name": "python3"
  },
  "language_info": {
   "codemirror_mode": {
    "name": "ipython",
    "version": 3
   },
   "file_extension": ".py",
   "mimetype": "text/x-python",
   "name": "python",
   "nbconvert_exporter": "python",
   "pygments_lexer": "ipython3",
   "version": "3.7.6"
  }
 },
 "nbformat": 4,
 "nbformat_minor": 4
}
