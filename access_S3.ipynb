{
 "cells": [
  {
   "cell_type": "code",
   "execution_count": 1,
   "metadata": {},
   "outputs": [],
   "source": [
    "import s3fs"
   ]
  },
  {
   "cell_type": "code",
   "execution_count": 2,
   "metadata": {},
   "outputs": [],
   "source": [
    "import os\n",
    "endpoint= os.environ['AWS_S3_ENDPOINT']\n",
    "fs = s3fs.S3FileSystem(client_kwargs={'endpoint_url': 'https://'+endpoint})"
   ]
  },
  {
   "cell_type": "code",
   "execution_count": 3,
   "metadata": {},
   "outputs": [
    {
     "data": {
      "text/plain": [
       "<s3fs.core.S3FileSystem at 0x7f1ccd1ac290>"
      ]
     },
     "execution_count": 3,
     "metadata": {},
     "output_type": "execute_result"
    }
   ],
   "source": [
    "fs"
   ]
  },
  {
   "cell_type": "code",
   "execution_count": 4,
   "metadata": {},
   "outputs": [
    {
     "data": {
      "text/plain": [
       "['jmbernabotto/ML']"
      ]
     },
     "execution_count": 4,
     "metadata": {},
     "output_type": "execute_result"
    }
   ],
   "source": [
    "fs.ls(\"s3://jmbernabotto\")"
   ]
  },
  {
   "cell_type": "code",
   "execution_count": 5,
   "metadata": {},
   "outputs": [
    {
     "data": {
      "text/html": [
       "<div>\n",
       "<style scoped>\n",
       "    .dataframe tbody tr th:only-of-type {\n",
       "        vertical-align: middle;\n",
       "    }\n",
       "\n",
       "    .dataframe tbody tr th {\n",
       "        vertical-align: top;\n",
       "    }\n",
       "\n",
       "    .dataframe thead th {\n",
       "        text-align: right;\n",
       "    }\n",
       "</style>\n",
       "<table border=\"1\" class=\"dataframe\">\n",
       "  <thead>\n",
       "    <tr style=\"text-align: right;\">\n",
       "      <th></th>\n",
       "      <th>id</th>\n",
       "      <th>name</th>\n",
       "      <th>years</th>\n",
       "      <th>genre</th>\n",
       "      <th>nationality</th>\n",
       "      <th>bio</th>\n",
       "      <th>wikipedia</th>\n",
       "      <th>paintings</th>\n",
       "    </tr>\n",
       "  </thead>\n",
       "  <tbody>\n",
       "    <tr>\n",
       "      <th>0</th>\n",
       "      <td>0</td>\n",
       "      <td>Amedeo Modigliani</td>\n",
       "      <td>1884 - 1920</td>\n",
       "      <td>Expressionism</td>\n",
       "      <td>Italian</td>\n",
       "      <td>Amedeo Clemente Modigliani (Italian pronunciat...</td>\n",
       "      <td>http://en.wikipedia.org/wiki/Amedeo_Modigliani</td>\n",
       "      <td>193</td>\n",
       "    </tr>\n",
       "    <tr>\n",
       "      <th>1</th>\n",
       "      <td>1</td>\n",
       "      <td>Vasiliy Kandinskiy</td>\n",
       "      <td>1866 - 1944</td>\n",
       "      <td>Expressionism,Abstractionism</td>\n",
       "      <td>Russian</td>\n",
       "      <td>Wassily Wassilyevich Kandinsky (Russian: Васи́...</td>\n",
       "      <td>http://en.wikipedia.org/wiki/Wassily_Kandinsky</td>\n",
       "      <td>88</td>\n",
       "    </tr>\n",
       "    <tr>\n",
       "      <th>2</th>\n",
       "      <td>2</td>\n",
       "      <td>Diego Rivera</td>\n",
       "      <td>1886 - 1957</td>\n",
       "      <td>Social Realism,Muralism</td>\n",
       "      <td>Mexican</td>\n",
       "      <td>Diego María de la Concepción Juan Nepomuceno E...</td>\n",
       "      <td>http://en.wikipedia.org/wiki/Diego_Rivera</td>\n",
       "      <td>70</td>\n",
       "    </tr>\n",
       "    <tr>\n",
       "      <th>3</th>\n",
       "      <td>3</td>\n",
       "      <td>Claude Monet</td>\n",
       "      <td>1840 - 1926</td>\n",
       "      <td>Impressionism</td>\n",
       "      <td>French</td>\n",
       "      <td>Oscar-Claude Monet (; French: [klod mɔnɛ]; 14 ...</td>\n",
       "      <td>http://en.wikipedia.org/wiki/Claude_Monet</td>\n",
       "      <td>73</td>\n",
       "    </tr>\n",
       "    <tr>\n",
       "      <th>4</th>\n",
       "      <td>4</td>\n",
       "      <td>Rene Magritte</td>\n",
       "      <td>1898 - 1967</td>\n",
       "      <td>Surrealism,Impressionism</td>\n",
       "      <td>Belgian</td>\n",
       "      <td>René François Ghislain Magritte (French: [ʁəne...</td>\n",
       "      <td>http://en.wikipedia.org/wiki/René_Magritte</td>\n",
       "      <td>194</td>\n",
       "    </tr>\n",
       "  </tbody>\n",
       "</table>\n",
       "</div>"
      ],
      "text/plain": [
       "   id                name        years                         genre  \\\n",
       "0   0   Amedeo Modigliani  1884 - 1920                 Expressionism   \n",
       "1   1  Vasiliy Kandinskiy  1866 - 1944  Expressionism,Abstractionism   \n",
       "2   2        Diego Rivera  1886 - 1957       Social Realism,Muralism   \n",
       "3   3        Claude Monet  1840 - 1926                 Impressionism   \n",
       "4   4       Rene Magritte  1898 - 1967      Surrealism,Impressionism   \n",
       "\n",
       "  nationality                                                bio  \\\n",
       "0     Italian  Amedeo Clemente Modigliani (Italian pronunciat...   \n",
       "1     Russian  Wassily Wassilyevich Kandinsky (Russian: Васи́...   \n",
       "2     Mexican  Diego María de la Concepción Juan Nepomuceno E...   \n",
       "3      French  Oscar-Claude Monet (; French: [klod mɔnɛ]; 14 ...   \n",
       "4     Belgian  René François Ghislain Magritte (French: [ʁəne...   \n",
       "\n",
       "                                        wikipedia  paintings  \n",
       "0  http://en.wikipedia.org/wiki/Amedeo_Modigliani        193  \n",
       "1  http://en.wikipedia.org/wiki/Wassily_Kandinsky         88  \n",
       "2       http://en.wikipedia.org/wiki/Diego_Rivera         70  \n",
       "3       http://en.wikipedia.org/wiki/Claude_Monet         73  \n",
       "4      http://en.wikipedia.org/wiki/René_Magritte        194  "
      ]
     },
     "execution_count": 5,
     "metadata": {},
     "output_type": "execute_result"
    }
   ],
   "source": [
    "import pandas as pd\n",
    "with fs.open('s3://jmbernabotto/ML/artists.csv') as f:\n",
    "    df = pd.read_csv(f)\n",
    "df.head()"
   ]
  },
  {
   "cell_type": "code",
   "execution_count": null,
   "metadata": {},
   "outputs": [],
   "source": []
  }
 ],
 "metadata": {
  "kernelspec": {
   "display_name": "Python 3",
   "language": "python",
   "name": "python3"
  },
  "language_info": {
   "codemirror_mode": {
    "name": "ipython",
    "version": 3
   },
   "file_extension": ".py",
   "mimetype": "text/x-python",
   "name": "python",
   "nbconvert_exporter": "python",
   "pygments_lexer": "ipython3",
   "version": "3.7.6"
  }
 },
 "nbformat": 4,
 "nbformat_minor": 4
}
